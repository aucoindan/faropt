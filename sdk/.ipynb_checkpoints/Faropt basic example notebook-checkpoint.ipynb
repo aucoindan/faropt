{
 "cells": [
  {
   "cell_type": "code",
   "execution_count": 1,
   "metadata": {},
   "outputs": [
    {
     "name": "stdout",
     "output_type": "stream",
     "text": [
      "Obtaining file:///home/ec2-user/SageMaker/faropt/sdk\n",
      "Requirement already satisfied: boto3 in /home/ec2-user/anaconda3/envs/python3/lib/python3.6/site-packages (from faropt==0.1.2) (1.16.9)\n",
      "Requirement already satisfied: botocore<1.20.0,>=1.19.9 in /home/ec2-user/anaconda3/envs/python3/lib/python3.6/site-packages (from boto3->faropt==0.1.2) (1.19.9)\n",
      "Requirement already satisfied: s3transfer<0.4.0,>=0.3.0 in /home/ec2-user/anaconda3/envs/python3/lib/python3.6/site-packages (from boto3->faropt==0.1.2) (0.3.3)\n",
      "Requirement already satisfied: jmespath<1.0.0,>=0.7.1 in /home/ec2-user/anaconda3/envs/python3/lib/python3.6/site-packages (from boto3->faropt==0.1.2) (0.10.0)\n",
      "Requirement already satisfied: urllib3<1.26,>=1.25.4; python_version != \"3.4\" in /home/ec2-user/anaconda3/envs/python3/lib/python3.6/site-packages (from botocore<1.20.0,>=1.19.9->boto3->faropt==0.1.2) (1.25.10)\n",
      "Requirement already satisfied: python-dateutil<3.0.0,>=2.1 in /home/ec2-user/anaconda3/envs/python3/lib/python3.6/site-packages (from botocore<1.20.0,>=1.19.9->boto3->faropt==0.1.2) (2.8.1)\n",
      "Requirement already satisfied: six>=1.5 in /home/ec2-user/anaconda3/envs/python3/lib/python3.6/site-packages (from python-dateutil<3.0.0,>=2.1->botocore<1.20.0,>=1.19.9->boto3->faropt==0.1.2) (1.14.0)\n",
      "Installing collected packages: faropt\n",
      "  Attempting uninstall: faropt\n",
      "    Found existing installation: faropt 0.1.2\n",
      "    Uninstalling faropt-0.1.2:\n",
      "      Successfully uninstalled faropt-0.1.2\n",
      "  Running setup.py develop for faropt\n",
      "Successfully installed faropt\n",
      "\u001b[33mWARNING: You are using pip version 20.0.2; however, version 20.2.4 is available.\n",
      "You should consider upgrading via the '/home/ec2-user/anaconda3/envs/python3/bin/python -m pip install --upgrade pip' command.\u001b[0m\n"
     ]
    }
   ],
   "source": [
    "!pip install -e ."
   ]
  },
  {
   "cell_type": "code",
   "execution_count": 2,
   "metadata": {},
   "outputs": [],
   "source": [
    "from faropt import FarOpt"
   ]
  },
  {
   "cell_type": "code",
   "execution_count": 3,
   "metadata": {},
   "outputs": [
    {
     "name": "stderr",
     "output_type": "stream",
     "text": [
      "INFO:botocore.credentials:Found credentials in shared credentials file: ~/.aws/credentials\n",
      "INFO:root:FarOpt backend is ready!\n"
     ]
    }
   ],
   "source": [
    "fo = FarOpt()"
   ]
  },
  {
   "cell_type": "code",
   "execution_count": 4,
   "metadata": {},
   "outputs": [
    {
     "name": "stdout",
     "output_type": "stream",
     "text": [
      "\u001b[33m\"\"\"Capacited Vehicles Routing Problem (CVRP).\"\"\"\u001b[39;49;00m\r\n",
      "\r\n",
      "\u001b[37m# [START import]\u001b[39;49;00m\r\n",
      "\u001b[34mfrom\u001b[39;49;00m \u001b[04m\u001b[36m__future__\u001b[39;49;00m \u001b[34mimport\u001b[39;49;00m print_function\r\n",
      "\u001b[34mfrom\u001b[39;49;00m \u001b[04m\u001b[36mortools\u001b[39;49;00m\u001b[04m\u001b[36m.\u001b[39;49;00m\u001b[04m\u001b[36mconstraint_solver\u001b[39;49;00m \u001b[34mimport\u001b[39;49;00m routing_enums_pb2\r\n",
      "\u001b[34mfrom\u001b[39;49;00m \u001b[04m\u001b[36mortools\u001b[39;49;00m\u001b[04m\u001b[36m.\u001b[39;49;00m\u001b[04m\u001b[36mconstraint_solver\u001b[39;49;00m \u001b[34mimport\u001b[39;49;00m pywrapcp\r\n",
      "\u001b[34mfrom\u001b[39;49;00m \u001b[04m\u001b[36mutils\u001b[39;49;00m \u001b[34mimport\u001b[39;49;00m *\r\n",
      "\u001b[37m# [END import]\u001b[39;49;00m\r\n",
      "\r\n",
      "\r\n",
      "\u001b[37m# [START data_model]\u001b[39;49;00m\r\n",
      "\u001b[34mdef\u001b[39;49;00m \u001b[32mcreate_data_model\u001b[39;49;00m():\r\n",
      "    \u001b[33m\"\"\"Stores the data for the problem.\"\"\"\u001b[39;49;00m\r\n",
      "    data = {}\r\n",
      "    data[\u001b[33m'\u001b[39;49;00m\u001b[33mdistance_matrix\u001b[39;49;00m\u001b[33m'\u001b[39;49;00m] = [\r\n",
      "        [\r\n",
      "            \u001b[34m0\u001b[39;49;00m, \u001b[34m548\u001b[39;49;00m, \u001b[34m776\u001b[39;49;00m, \u001b[34m696\u001b[39;49;00m, \u001b[34m582\u001b[39;49;00m, \u001b[34m274\u001b[39;49;00m, \u001b[34m502\u001b[39;49;00m, \u001b[34m194\u001b[39;49;00m, \u001b[34m308\u001b[39;49;00m, \u001b[34m194\u001b[39;49;00m, \u001b[34m536\u001b[39;49;00m, \u001b[34m502\u001b[39;49;00m, \u001b[34m388\u001b[39;49;00m, \u001b[34m354\u001b[39;49;00m,\r\n",
      "            \u001b[34m468\u001b[39;49;00m, \u001b[34m776\u001b[39;49;00m, \u001b[34m662\u001b[39;49;00m\r\n",
      "        ],\r\n",
      "        [\r\n",
      "            \u001b[34m548\u001b[39;49;00m, \u001b[34m0\u001b[39;49;00m, \u001b[34m684\u001b[39;49;00m, \u001b[34m308\u001b[39;49;00m, \u001b[34m194\u001b[39;49;00m, \u001b[34m502\u001b[39;49;00m, \u001b[34m730\u001b[39;49;00m, \u001b[34m354\u001b[39;49;00m, \u001b[34m696\u001b[39;49;00m, \u001b[34m742\u001b[39;49;00m, \u001b[34m1084\u001b[39;49;00m, \u001b[34m594\u001b[39;49;00m, \u001b[34m480\u001b[39;49;00m, \u001b[34m674\u001b[39;49;00m,\r\n",
      "            \u001b[34m1016\u001b[39;49;00m, \u001b[34m868\u001b[39;49;00m, \u001b[34m1210\u001b[39;49;00m\r\n",
      "        ],\r\n",
      "        [\r\n",
      "            \u001b[34m776\u001b[39;49;00m, \u001b[34m684\u001b[39;49;00m, \u001b[34m0\u001b[39;49;00m, \u001b[34m992\u001b[39;49;00m, \u001b[34m878\u001b[39;49;00m, \u001b[34m502\u001b[39;49;00m, \u001b[34m274\u001b[39;49;00m, \u001b[34m810\u001b[39;49;00m, \u001b[34m468\u001b[39;49;00m, \u001b[34m742\u001b[39;49;00m, \u001b[34m400\u001b[39;49;00m, \u001b[34m1278\u001b[39;49;00m, \u001b[34m1164\u001b[39;49;00m,\r\n",
      "            \u001b[34m1130\u001b[39;49;00m, \u001b[34m788\u001b[39;49;00m, \u001b[34m1552\u001b[39;49;00m, \u001b[34m754\u001b[39;49;00m\r\n",
      "        ],\r\n",
      "        [\r\n",
      "            \u001b[34m696\u001b[39;49;00m, \u001b[34m308\u001b[39;49;00m, \u001b[34m992\u001b[39;49;00m, \u001b[34m0\u001b[39;49;00m, \u001b[34m114\u001b[39;49;00m, \u001b[34m650\u001b[39;49;00m, \u001b[34m878\u001b[39;49;00m, \u001b[34m502\u001b[39;49;00m, \u001b[34m844\u001b[39;49;00m, \u001b[34m890\u001b[39;49;00m, \u001b[34m1232\u001b[39;49;00m, \u001b[34m514\u001b[39;49;00m, \u001b[34m628\u001b[39;49;00m, \u001b[34m822\u001b[39;49;00m,\r\n",
      "            \u001b[34m1164\u001b[39;49;00m, \u001b[34m560\u001b[39;49;00m, \u001b[34m1358\u001b[39;49;00m\r\n",
      "        ],\r\n",
      "        [\r\n",
      "            \u001b[34m582\u001b[39;49;00m, \u001b[34m194\u001b[39;49;00m, \u001b[34m878\u001b[39;49;00m, \u001b[34m114\u001b[39;49;00m, \u001b[34m0\u001b[39;49;00m, \u001b[34m536\u001b[39;49;00m, \u001b[34m764\u001b[39;49;00m, \u001b[34m388\u001b[39;49;00m, \u001b[34m730\u001b[39;49;00m, \u001b[34m776\u001b[39;49;00m, \u001b[34m1118\u001b[39;49;00m, \u001b[34m400\u001b[39;49;00m, \u001b[34m514\u001b[39;49;00m, \u001b[34m708\u001b[39;49;00m,\r\n",
      "            \u001b[34m1050\u001b[39;49;00m, \u001b[34m674\u001b[39;49;00m, \u001b[34m1244\u001b[39;49;00m\r\n",
      "        ],\r\n",
      "        [\r\n",
      "            \u001b[34m274\u001b[39;49;00m, \u001b[34m502\u001b[39;49;00m, \u001b[34m502\u001b[39;49;00m, \u001b[34m650\u001b[39;49;00m, \u001b[34m536\u001b[39;49;00m, \u001b[34m0\u001b[39;49;00m, \u001b[34m228\u001b[39;49;00m, \u001b[34m308\u001b[39;49;00m, \u001b[34m194\u001b[39;49;00m, \u001b[34m240\u001b[39;49;00m, \u001b[34m582\u001b[39;49;00m, \u001b[34m776\u001b[39;49;00m, \u001b[34m662\u001b[39;49;00m, \u001b[34m628\u001b[39;49;00m,\r\n",
      "            \u001b[34m514\u001b[39;49;00m, \u001b[34m1050\u001b[39;49;00m, \u001b[34m708\u001b[39;49;00m\r\n",
      "        ],\r\n",
      "        [\r\n",
      "            \u001b[34m502\u001b[39;49;00m, \u001b[34m730\u001b[39;49;00m, \u001b[34m274\u001b[39;49;00m, \u001b[34m878\u001b[39;49;00m, \u001b[34m764\u001b[39;49;00m, \u001b[34m228\u001b[39;49;00m, \u001b[34m0\u001b[39;49;00m, \u001b[34m536\u001b[39;49;00m, \u001b[34m194\u001b[39;49;00m, \u001b[34m468\u001b[39;49;00m, \u001b[34m354\u001b[39;49;00m, \u001b[34m1004\u001b[39;49;00m, \u001b[34m890\u001b[39;49;00m, \u001b[34m856\u001b[39;49;00m,\r\n",
      "            \u001b[34m514\u001b[39;49;00m, \u001b[34m1278\u001b[39;49;00m, \u001b[34m480\u001b[39;49;00m\r\n",
      "        ],\r\n",
      "        [\r\n",
      "            \u001b[34m194\u001b[39;49;00m, \u001b[34m354\u001b[39;49;00m, \u001b[34m810\u001b[39;49;00m, \u001b[34m502\u001b[39;49;00m, \u001b[34m388\u001b[39;49;00m, \u001b[34m308\u001b[39;49;00m, \u001b[34m536\u001b[39;49;00m, \u001b[34m0\u001b[39;49;00m, \u001b[34m342\u001b[39;49;00m, \u001b[34m388\u001b[39;49;00m, \u001b[34m730\u001b[39;49;00m, \u001b[34m468\u001b[39;49;00m, \u001b[34m354\u001b[39;49;00m, \u001b[34m320\u001b[39;49;00m,\r\n",
      "            \u001b[34m662\u001b[39;49;00m, \u001b[34m742\u001b[39;49;00m, \u001b[34m856\u001b[39;49;00m\r\n",
      "        ],\r\n",
      "        [\r\n",
      "            \u001b[34m308\u001b[39;49;00m, \u001b[34m696\u001b[39;49;00m, \u001b[34m468\u001b[39;49;00m, \u001b[34m844\u001b[39;49;00m, \u001b[34m730\u001b[39;49;00m, \u001b[34m194\u001b[39;49;00m, \u001b[34m194\u001b[39;49;00m, \u001b[34m342\u001b[39;49;00m, \u001b[34m0\u001b[39;49;00m, \u001b[34m274\u001b[39;49;00m, \u001b[34m388\u001b[39;49;00m, \u001b[34m810\u001b[39;49;00m, \u001b[34m696\u001b[39;49;00m, \u001b[34m662\u001b[39;49;00m,\r\n",
      "            \u001b[34m320\u001b[39;49;00m, \u001b[34m1084\u001b[39;49;00m, \u001b[34m514\u001b[39;49;00m\r\n",
      "        ],\r\n",
      "        [\r\n",
      "            \u001b[34m194\u001b[39;49;00m, \u001b[34m742\u001b[39;49;00m, \u001b[34m742\u001b[39;49;00m, \u001b[34m890\u001b[39;49;00m, \u001b[34m776\u001b[39;49;00m, \u001b[34m240\u001b[39;49;00m, \u001b[34m468\u001b[39;49;00m, \u001b[34m388\u001b[39;49;00m, \u001b[34m274\u001b[39;49;00m, \u001b[34m0\u001b[39;49;00m, \u001b[34m342\u001b[39;49;00m, \u001b[34m536\u001b[39;49;00m, \u001b[34m422\u001b[39;49;00m, \u001b[34m388\u001b[39;49;00m,\r\n",
      "            \u001b[34m274\u001b[39;49;00m, \u001b[34m810\u001b[39;49;00m, \u001b[34m468\u001b[39;49;00m\r\n",
      "        ],\r\n",
      "        [\r\n",
      "            \u001b[34m536\u001b[39;49;00m, \u001b[34m1084\u001b[39;49;00m, \u001b[34m400\u001b[39;49;00m, \u001b[34m1232\u001b[39;49;00m, \u001b[34m1118\u001b[39;49;00m, \u001b[34m582\u001b[39;49;00m, \u001b[34m354\u001b[39;49;00m, \u001b[34m730\u001b[39;49;00m, \u001b[34m388\u001b[39;49;00m, \u001b[34m342\u001b[39;49;00m, \u001b[34m0\u001b[39;49;00m, \u001b[34m878\u001b[39;49;00m, \u001b[34m764\u001b[39;49;00m,\r\n",
      "            \u001b[34m730\u001b[39;49;00m, \u001b[34m388\u001b[39;49;00m, \u001b[34m1152\u001b[39;49;00m, \u001b[34m354\u001b[39;49;00m\r\n",
      "        ],\r\n",
      "        [\r\n",
      "            \u001b[34m502\u001b[39;49;00m, \u001b[34m594\u001b[39;49;00m, \u001b[34m1278\u001b[39;49;00m, \u001b[34m514\u001b[39;49;00m, \u001b[34m400\u001b[39;49;00m, \u001b[34m776\u001b[39;49;00m, \u001b[34m1004\u001b[39;49;00m, \u001b[34m468\u001b[39;49;00m, \u001b[34m810\u001b[39;49;00m, \u001b[34m536\u001b[39;49;00m, \u001b[34m878\u001b[39;49;00m, \u001b[34m0\u001b[39;49;00m, \u001b[34m114\u001b[39;49;00m,\r\n",
      "            \u001b[34m308\u001b[39;49;00m, \u001b[34m650\u001b[39;49;00m, \u001b[34m274\u001b[39;49;00m, \u001b[34m844\u001b[39;49;00m\r\n",
      "        ],\r\n",
      "        [\r\n",
      "            \u001b[34m388\u001b[39;49;00m, \u001b[34m480\u001b[39;49;00m, \u001b[34m1164\u001b[39;49;00m, \u001b[34m628\u001b[39;49;00m, \u001b[34m514\u001b[39;49;00m, \u001b[34m662\u001b[39;49;00m, \u001b[34m890\u001b[39;49;00m, \u001b[34m354\u001b[39;49;00m, \u001b[34m696\u001b[39;49;00m, \u001b[34m422\u001b[39;49;00m, \u001b[34m764\u001b[39;49;00m, \u001b[34m114\u001b[39;49;00m, \u001b[34m0\u001b[39;49;00m, \u001b[34m194\u001b[39;49;00m,\r\n",
      "            \u001b[34m536\u001b[39;49;00m, \u001b[34m388\u001b[39;49;00m, \u001b[34m730\u001b[39;49;00m\r\n",
      "        ],\r\n",
      "        [\r\n",
      "            \u001b[34m354\u001b[39;49;00m, \u001b[34m674\u001b[39;49;00m, \u001b[34m1130\u001b[39;49;00m, \u001b[34m822\u001b[39;49;00m, \u001b[34m708\u001b[39;49;00m, \u001b[34m628\u001b[39;49;00m, \u001b[34m856\u001b[39;49;00m, \u001b[34m320\u001b[39;49;00m, \u001b[34m662\u001b[39;49;00m, \u001b[34m388\u001b[39;49;00m, \u001b[34m730\u001b[39;49;00m, \u001b[34m308\u001b[39;49;00m, \u001b[34m194\u001b[39;49;00m, \u001b[34m0\u001b[39;49;00m,\r\n",
      "            \u001b[34m342\u001b[39;49;00m, \u001b[34m422\u001b[39;49;00m, \u001b[34m536\u001b[39;49;00m\r\n",
      "        ],\r\n",
      "        [\r\n",
      "            \u001b[34m468\u001b[39;49;00m, \u001b[34m1016\u001b[39;49;00m, \u001b[34m788\u001b[39;49;00m, \u001b[34m1164\u001b[39;49;00m, \u001b[34m1050\u001b[39;49;00m, \u001b[34m514\u001b[39;49;00m, \u001b[34m514\u001b[39;49;00m, \u001b[34m662\u001b[39;49;00m, \u001b[34m320\u001b[39;49;00m, \u001b[34m274\u001b[39;49;00m, \u001b[34m388\u001b[39;49;00m, \u001b[34m650\u001b[39;49;00m, \u001b[34m536\u001b[39;49;00m,\r\n",
      "            \u001b[34m342\u001b[39;49;00m, \u001b[34m0\u001b[39;49;00m, \u001b[34m764\u001b[39;49;00m, \u001b[34m194\u001b[39;49;00m\r\n",
      "        ],\r\n",
      "        [\r\n",
      "            \u001b[34m776\u001b[39;49;00m, \u001b[34m868\u001b[39;49;00m, \u001b[34m1552\u001b[39;49;00m, \u001b[34m560\u001b[39;49;00m, \u001b[34m674\u001b[39;49;00m, \u001b[34m1050\u001b[39;49;00m, \u001b[34m1278\u001b[39;49;00m, \u001b[34m742\u001b[39;49;00m, \u001b[34m1084\u001b[39;49;00m, \u001b[34m810\u001b[39;49;00m, \u001b[34m1152\u001b[39;49;00m, \u001b[34m274\u001b[39;49;00m,\r\n",
      "            \u001b[34m388\u001b[39;49;00m, \u001b[34m422\u001b[39;49;00m, \u001b[34m764\u001b[39;49;00m, \u001b[34m0\u001b[39;49;00m, \u001b[34m798\u001b[39;49;00m\r\n",
      "        ],\r\n",
      "        [\r\n",
      "            \u001b[34m662\u001b[39;49;00m, \u001b[34m1210\u001b[39;49;00m, \u001b[34m754\u001b[39;49;00m, \u001b[34m1358\u001b[39;49;00m, \u001b[34m1244\u001b[39;49;00m, \u001b[34m708\u001b[39;49;00m, \u001b[34m480\u001b[39;49;00m, \u001b[34m856\u001b[39;49;00m, \u001b[34m514\u001b[39;49;00m, \u001b[34m468\u001b[39;49;00m, \u001b[34m354\u001b[39;49;00m, \u001b[34m844\u001b[39;49;00m, \u001b[34m730\u001b[39;49;00m,\r\n",
      "            \u001b[34m536\u001b[39;49;00m, \u001b[34m194\u001b[39;49;00m, \u001b[34m798\u001b[39;49;00m, \u001b[34m0\u001b[39;49;00m\r\n",
      "        ],\r\n",
      "    ]\r\n",
      "    \u001b[37m# [START demands_capacities]\u001b[39;49;00m\r\n",
      "    data[\u001b[33m'\u001b[39;49;00m\u001b[33mdemands\u001b[39;49;00m\u001b[33m'\u001b[39;49;00m] = [\u001b[34m0\u001b[39;49;00m, \u001b[34m1\u001b[39;49;00m, \u001b[34m1\u001b[39;49;00m, \u001b[34m2\u001b[39;49;00m, \u001b[34m4\u001b[39;49;00m, \u001b[34m2\u001b[39;49;00m, \u001b[34m4\u001b[39;49;00m, \u001b[34m8\u001b[39;49;00m, \u001b[34m8\u001b[39;49;00m, \u001b[34m1\u001b[39;49;00m, \u001b[34m2\u001b[39;49;00m, \u001b[34m1\u001b[39;49;00m, \u001b[34m2\u001b[39;49;00m, \u001b[34m4\u001b[39;49;00m, \u001b[34m4\u001b[39;49;00m, \u001b[34m8\u001b[39;49;00m, \u001b[34m8\u001b[39;49;00m]\r\n",
      "    data[\u001b[33m'\u001b[39;49;00m\u001b[33mvehicle_capacities\u001b[39;49;00m\u001b[33m'\u001b[39;49;00m] = [\u001b[34m15\u001b[39;49;00m, \u001b[34m15\u001b[39;49;00m, \u001b[34m15\u001b[39;49;00m, \u001b[34m15\u001b[39;49;00m]\r\n",
      "    \u001b[37m# [END demands_capacities]\u001b[39;49;00m\r\n",
      "    data[\u001b[33m'\u001b[39;49;00m\u001b[33mnum_vehicles\u001b[39;49;00m\u001b[33m'\u001b[39;49;00m] = \u001b[34m4\u001b[39;49;00m\r\n",
      "    data[\u001b[33m'\u001b[39;49;00m\u001b[33mdepot\u001b[39;49;00m\u001b[33m'\u001b[39;49;00m] = \u001b[34m0\u001b[39;49;00m\r\n",
      "    \u001b[34mreturn\u001b[39;49;00m data\r\n",
      "    \u001b[37m# [END data_model]\u001b[39;49;00m\r\n",
      "\r\n",
      "\r\n",
      "\u001b[37m# [START solution_printer]\u001b[39;49;00m\r\n",
      "\u001b[34mdef\u001b[39;49;00m \u001b[32mprint_solution\u001b[39;49;00m(data, manager, routing, solution):\r\n",
      "    \u001b[33m\"\"\"Prints solution on console.\"\"\"\u001b[39;49;00m\r\n",
      "    total_distance = \u001b[34m0\u001b[39;49;00m\r\n",
      "    total_load = \u001b[34m0\u001b[39;49;00m\r\n",
      "    \u001b[34mfor\u001b[39;49;00m vehicle_id \u001b[35min\u001b[39;49;00m \u001b[36mrange\u001b[39;49;00m(data[\u001b[33m'\u001b[39;49;00m\u001b[33mnum_vehicles\u001b[39;49;00m\u001b[33m'\u001b[39;49;00m]):\r\n",
      "        index = routing.Start(vehicle_id)\r\n",
      "        plan_output = \u001b[33m'\u001b[39;49;00m\u001b[33mRoute for vehicle \u001b[39;49;00m\u001b[33m{}\u001b[39;49;00m\u001b[33m:\u001b[39;49;00m\u001b[33m\\n\u001b[39;49;00m\u001b[33m'\u001b[39;49;00m.format(vehicle_id)\r\n",
      "        route_distance = \u001b[34m0\u001b[39;49;00m\r\n",
      "        route_load = \u001b[34m0\u001b[39;49;00m\r\n",
      "        \u001b[34mwhile\u001b[39;49;00m \u001b[35mnot\u001b[39;49;00m routing.IsEnd(index):\r\n",
      "            node_index = manager.IndexToNode(index)\r\n",
      "            route_load += data[\u001b[33m'\u001b[39;49;00m\u001b[33mdemands\u001b[39;49;00m\u001b[33m'\u001b[39;49;00m][node_index]\r\n",
      "            plan_output += \u001b[33m'\u001b[39;49;00m\u001b[33m \u001b[39;49;00m\u001b[33m{0}\u001b[39;49;00m\u001b[33m Load(\u001b[39;49;00m\u001b[33m{1}\u001b[39;49;00m\u001b[33m) -> \u001b[39;49;00m\u001b[33m'\u001b[39;49;00m.format(node_index, route_load)\r\n",
      "            previous_index = index\r\n",
      "            index = solution.Value(routing.NextVar(index))\r\n",
      "            route_distance += routing.GetArcCostForVehicle(\r\n",
      "                previous_index, index, vehicle_id)\r\n",
      "        plan_output += \u001b[33m'\u001b[39;49;00m\u001b[33m \u001b[39;49;00m\u001b[33m{0}\u001b[39;49;00m\u001b[33m Load(\u001b[39;49;00m\u001b[33m{1}\u001b[39;49;00m\u001b[33m)\u001b[39;49;00m\u001b[33m\\n\u001b[39;49;00m\u001b[33m'\u001b[39;49;00m.format(manager.IndexToNode(index),\r\n",
      "                                                 route_load)\r\n",
      "        plan_output += \u001b[33m'\u001b[39;49;00m\u001b[33mDistance of the route: \u001b[39;49;00m\u001b[33m{}\u001b[39;49;00m\u001b[33mm\u001b[39;49;00m\u001b[33m\\n\u001b[39;49;00m\u001b[33m'\u001b[39;49;00m.format(route_distance)\r\n",
      "        plan_output += \u001b[33m'\u001b[39;49;00m\u001b[33mLoad of the route: \u001b[39;49;00m\u001b[33m{}\u001b[39;49;00m\u001b[33m\\n\u001b[39;49;00m\u001b[33m'\u001b[39;49;00m.format(route_load)\r\n",
      "        \u001b[36mprint\u001b[39;49;00m(plan_output)\r\n",
      "        total_distance += route_distance\r\n",
      "        total_load += route_load\r\n",
      "    \u001b[36mprint\u001b[39;49;00m(\u001b[33m'\u001b[39;49;00m\u001b[33mTotal distance of all routes: \u001b[39;49;00m\u001b[33m{}\u001b[39;49;00m\u001b[33mm\u001b[39;49;00m\u001b[33m'\u001b[39;49;00m.format(total_distance))\r\n",
      "    log_metric(\u001b[33m'\u001b[39;49;00m\u001b[33mtotal_distance\u001b[39;49;00m\u001b[33m'\u001b[39;49;00m,total_distance)\r\n",
      "    save(\u001b[33m'\u001b[39;49;00m\u001b[33m/tmp/task.py\u001b[39;49;00m\u001b[33m'\u001b[39;49;00m) \u001b[37m#or some other output\u001b[39;49;00m\r\n",
      "    \u001b[36mprint\u001b[39;49;00m(\u001b[33m'\u001b[39;49;00m\u001b[33mTotal load of all routes: \u001b[39;49;00m\u001b[33m{}\u001b[39;49;00m\u001b[33m'\u001b[39;49;00m.format(total_load))\r\n",
      "    \u001b[37m# [END solution_printer]\u001b[39;49;00m\r\n",
      "\r\n",
      "\r\n",
      "\u001b[34mdef\u001b[39;49;00m \u001b[32mmain\u001b[39;49;00m():\r\n",
      "    \u001b[33m\"\"\"Solve the CVRP problem.\"\"\"\u001b[39;49;00m\r\n",
      "    \u001b[37m# Instantiate the data problem.\u001b[39;49;00m\r\n",
      "    \u001b[37m# [START data]\u001b[39;49;00m\r\n",
      "    data = create_data_model()\r\n",
      "    \u001b[37m# [END data]\u001b[39;49;00m\r\n",
      "\r\n",
      "    \u001b[37m# Create the routing index manager.\u001b[39;49;00m\r\n",
      "    \u001b[37m# [START index_manager]\u001b[39;49;00m\r\n",
      "    manager = pywrapcp.RoutingIndexManager(\u001b[36mlen\u001b[39;49;00m(data[\u001b[33m'\u001b[39;49;00m\u001b[33mdistance_matrix\u001b[39;49;00m\u001b[33m'\u001b[39;49;00m]),\r\n",
      "                                           data[\u001b[33m'\u001b[39;49;00m\u001b[33mnum_vehicles\u001b[39;49;00m\u001b[33m'\u001b[39;49;00m], data[\u001b[33m'\u001b[39;49;00m\u001b[33mdepot\u001b[39;49;00m\u001b[33m'\u001b[39;49;00m])\r\n",
      "    \u001b[37m# [END index_manager]\u001b[39;49;00m\r\n",
      "\r\n",
      "    \u001b[37m# Create Routing Model.\u001b[39;49;00m\r\n",
      "    \u001b[37m# [START routing_model]\u001b[39;49;00m\r\n",
      "    routing = pywrapcp.RoutingModel(manager)\r\n",
      "\r\n",
      "    \u001b[37m# [END routing_model]\u001b[39;49;00m\r\n",
      "\r\n",
      "    \u001b[37m# Create and register a transit callback.\u001b[39;49;00m\r\n",
      "    \u001b[37m# [START transit_callback]\u001b[39;49;00m\r\n",
      "    \u001b[34mdef\u001b[39;49;00m \u001b[32mdistance_callback\u001b[39;49;00m(from_index, to_index):\r\n",
      "        \u001b[33m\"\"\"Returns the distance between the two nodes.\"\"\"\u001b[39;49;00m\r\n",
      "        \u001b[37m# Convert from routing variable Index to distance matrix NodeIndex.\u001b[39;49;00m\r\n",
      "        from_node = manager.IndexToNode(from_index)\r\n",
      "        to_node = manager.IndexToNode(to_index)\r\n",
      "        \u001b[34mreturn\u001b[39;49;00m data[\u001b[33m'\u001b[39;49;00m\u001b[33mdistance_matrix\u001b[39;49;00m\u001b[33m'\u001b[39;49;00m][from_node][to_node]\r\n",
      "\r\n",
      "    transit_callback_index = routing.RegisterTransitCallback(distance_callback)\r\n",
      "    \u001b[37m# [END transit_callback]\u001b[39;49;00m\r\n",
      "\r\n",
      "    \u001b[37m# Define cost of each arc.\u001b[39;49;00m\r\n",
      "    \u001b[37m# [START arc_cost]\u001b[39;49;00m\r\n",
      "    routing.SetArcCostEvaluatorOfAllVehicles(transit_callback_index)\r\n",
      "\r\n",
      "    \u001b[37m# [END arc_cost]\u001b[39;49;00m\r\n",
      "\r\n",
      "    \u001b[37m# Add Capacity constraint.\u001b[39;49;00m\r\n",
      "    \u001b[37m# [START capacity_constraint]\u001b[39;49;00m\r\n",
      "    \u001b[34mdef\u001b[39;49;00m \u001b[32mdemand_callback\u001b[39;49;00m(from_index):\r\n",
      "        \u001b[33m\"\"\"Returns the demand of the node.\"\"\"\u001b[39;49;00m\r\n",
      "        \u001b[37m# Convert from routing variable Index to demands NodeIndex.\u001b[39;49;00m\r\n",
      "        from_node = manager.IndexToNode(from_index)\r\n",
      "        \u001b[34mreturn\u001b[39;49;00m data[\u001b[33m'\u001b[39;49;00m\u001b[33mdemands\u001b[39;49;00m\u001b[33m'\u001b[39;49;00m][from_node]\r\n",
      "\r\n",
      "    demand_callback_index = routing.RegisterUnaryTransitCallback(\r\n",
      "        demand_callback)\r\n",
      "    routing.AddDimensionWithVehicleCapacity(\r\n",
      "        demand_callback_index,\r\n",
      "        \u001b[34m0\u001b[39;49;00m,  \u001b[37m# null capacity slack\u001b[39;49;00m\r\n",
      "        data[\u001b[33m'\u001b[39;49;00m\u001b[33mvehicle_capacities\u001b[39;49;00m\u001b[33m'\u001b[39;49;00m],  \u001b[37m# vehicle maximum capacities\u001b[39;49;00m\r\n",
      "        \u001b[34mTrue\u001b[39;49;00m,  \u001b[37m# start cumul to zero\u001b[39;49;00m\r\n",
      "        \u001b[33m'\u001b[39;49;00m\u001b[33mCapacity\u001b[39;49;00m\u001b[33m'\u001b[39;49;00m)\r\n",
      "    \u001b[37m# [END capacity_constraint]\u001b[39;49;00m\r\n",
      "\r\n",
      "    \u001b[37m# Setting first solution heuristic.\u001b[39;49;00m\r\n",
      "    \u001b[37m# [START parameters]\u001b[39;49;00m\r\n",
      "    search_parameters = pywrapcp.DefaultRoutingSearchParameters()\r\n",
      "    search_parameters.first_solution_strategy = (\r\n",
      "        routing_enums_pb2.FirstSolutionStrategy.PATH_CHEAPEST_ARC)\r\n",
      "    \u001b[37m# [END parameters]\u001b[39;49;00m\r\n",
      "\r\n",
      "    \u001b[37m# Solve the problem.\u001b[39;49;00m\r\n",
      "    \u001b[37m# [START solve]\u001b[39;49;00m\r\n",
      "    solution = routing.SolveWithParameters(search_parameters)\r\n",
      "    \u001b[37m# [END solve]\u001b[39;49;00m\r\n",
      "\r\n",
      "    \u001b[37m# Print solution on console.\u001b[39;49;00m\r\n",
      "    \u001b[37m# [START print_solution]\u001b[39;49;00m\r\n",
      "    \u001b[36mprint\u001b[39;49;00m(\u001b[33m'\u001b[39;49;00m\u001b[33mprinting solutions\u001b[39;49;00m\u001b[33m'\u001b[39;49;00m)\r\n",
      "    \u001b[34mif\u001b[39;49;00m solution:\r\n",
      "        print_solution(data, manager, routing, solution)\r\n",
      "    \u001b[37m# [END print_solution]\u001b[39;49;00m\r\n",
      "\r\n",
      "\r\n",
      "main()\r\n"
     ]
    }
   ],
   "source": [
    "!pygmentize ../tests/src/main.py"
   ]
  },
  {
   "cell_type": "code",
   "execution_count": 5,
   "metadata": {},
   "outputs": [
    {
     "name": "stderr",
     "output_type": "stream",
     "text": [
      "INFO:root:Listing project files ...\n",
      "INFO:root:Configured job!\n"
     ]
    },
    {
     "name": "stdout",
     "output_type": "stream",
     "text": [
      "../tests/srcga/ ['tsp'] ['main.py', 'gr17.json']\n",
      "main.py\n",
      "gr17.json\n",
      "../tests/srcga/tsp [] ['gr17.json']\n",
      "gr17.json\n"
     ]
    }
   ],
   "source": [
    "fo.configure('../tests/srcga/')"
   ]
  },
  {
   "cell_type": "code",
   "execution_count": 6,
   "metadata": {},
   "outputs": [
    {
     "name": "stderr",
     "output_type": "stream",
     "text": [
      "INFO:root:Submitting job\n",
      "INFO:root:Submitted job! id: 2020-11-11-23-22-34-72f8cb1b-bfcf-4894-843e-57ab51f93957\n"
     ]
    }
   ],
   "source": [
    "fo.submit()"
   ]
  },
  {
   "cell_type": "code",
   "execution_count": 7,
   "metadata": {},
   "outputs": [
    {
     "name": "stdout",
     "output_type": "stream",
     "text": [
      "jobid:2020-11-11-23-15-54-f3001776-6dbb-4bbf-8a18-a9575cd21cdb | bucket:faropt-s3bucketfbfa637e-jauzfgds5cug | path:2020-11-11-23-15-54-f3001776-6dbb-4bbf-8a18-a9575cd21cdb/source.zip\n",
      "jobid:2020-11-11-23-20-28-e20a1366-119c-40b1-ad79-f2fee3f85435 | bucket:faropt-s3bucketfbfa637e-jauzfgds5cug | path:2020-11-11-23-20-28-e20a1366-119c-40b1-ad79-f2fee3f85435/source.zip\n",
      "jobid:2020-11-11-23-22-34-72f8cb1b-bfcf-4894-843e-57ab51f93957 | bucket:faropt-s3bucketfbfa637e-jauzfgds5cug | path:2020-11-11-23-22-34-72f8cb1b-bfcf-4894-843e-57ab51f93957/source.zip\n",
      "jobid:2020-11-11-23-17-21-37e71081-5c1e-49e5-af89-7607e2293114 | bucket:faropt-s3bucketfbfa637e-jauzfgds5cug | path:2020-11-11-23-17-21-37e71081-5c1e-49e5-af89-7607e2293114/source.zip\n"
     ]
    }
   ],
   "source": [
    "fo.list_jobs()"
   ]
  },
  {
   "cell_type": "code",
   "execution_count": 8,
   "metadata": {},
   "outputs": [
    {
     "name": "stdout",
     "output_type": "stream",
     "text": [
      "PROVISIONING\n",
      "PROVISIONING\n",
      "PROVISIONING\n",
      "PROVISIONING\n",
      "PENDING\n",
      "PENDING\n",
      "PENDING\n",
      "PENDING\n",
      "PENDING\n",
      "PENDING\n",
      "RUNNING\n",
      "RUNNING\n",
      "RUNNING\n",
      "RUNNING\n"
     ]
    },
    {
     "name": "stderr",
     "output_type": "stream",
     "text": [
      "INFO:root:No running tasks. Checking completed tasks...\n",
      "INFO:root:No running tasks. Checking completed tasks...\n"
     ]
    },
    {
     "name": "stdout",
     "output_type": "stream",
     "text": [
      "DEPROVISIONING\n"
     ]
    },
    {
     "name": "stderr",
     "output_type": "stream",
     "text": [
      "INFO:root:No running tasks. Checking completed tasks...\n",
      "INFO:root:No running tasks. Checking completed tasks...\n"
     ]
    },
    {
     "name": "stdout",
     "output_type": "stream",
     "text": [
      "DEPROVISIONING\n"
     ]
    },
    {
     "name": "stderr",
     "output_type": "stream",
     "text": [
      "INFO:root:No running tasks. Checking completed tasks...\n",
      "INFO:root:No running tasks. Checking completed tasks...\n"
     ]
    },
    {
     "name": "stdout",
     "output_type": "stream",
     "text": [
      "DEPROVISIONING\n"
     ]
    },
    {
     "name": "stderr",
     "output_type": "stream",
     "text": [
      "INFO:root:No running tasks. Checking completed tasks...\n",
      "INFO:root:No running tasks. Checking completed tasks...\n"
     ]
    },
    {
     "name": "stdout",
     "output_type": "stream",
     "text": [
      "DEPROVISIONING\n"
     ]
    },
    {
     "name": "stderr",
     "output_type": "stream",
     "text": [
      "INFO:root:No running tasks. Checking completed tasks...\n"
     ]
    }
   ],
   "source": [
    "import time\n",
    "while fo.primary_status()!='STOPPED':\n",
    "    print(fo.primary_status())\n",
    "    time.sleep(3)"
   ]
  },
  {
   "cell_type": "code",
   "execution_count": 9,
   "metadata": {},
   "outputs": [
    {
     "name": "stderr",
     "output_type": "stream",
     "text": [
      "INFO:root:No running tasks. Checking completed tasks...\n",
      "INFO:root:No running tasks. Checking completed tasks...\n"
     ]
    },
    {
     "name": "stdout",
     "output_type": "stream",
     "text": [
      "1605136993093 |  Starting FarOpt backend\n",
      "1605136993093 | ███████╗ █████╗ ██████╗  ██████╗ ██████╗ ████████╗\n",
      "1605136993093 | ██╔════╝██╔══██╗██╔══██╗██╔═══██╗██╔══██╗╚══██╔══╝\n",
      "1605136993093 | █████╗  ███████║██████╔╝██║   ██║██████╔╝   ██║   \n",
      "1605136993093 | ██╔══╝  ██╔══██║██╔══██╗██║   ██║██╔═══╝    ██║   \n",
      "1605136993093 | ██║     ██║  ██║██║  ██║╚██████╔╝██║        ██║   \n",
      "1605136993093 | ╚═╝     ╚═╝  ╚═╝╚═╝  ╚═╝ ╚═════╝ ╚═╝        ╚═╝   \n",
      "1605136993093 | ---------------------------------------------------------------\n",
      "1605136993093 | Downloading source\n",
      "1605136993093 | Looking for source.zip in  faropt-s3bucketfbfa637e-jauzfgds5cug / 2020-11-11-23-22-34-72f8cb1b-bfcf-4894-843e-57ab51f93957\n",
      "1605136993093 | Downloaded source.zip, uncompressing\n",
      "1605136993093 | ---------------------------------------------------------------\n",
      "1605136993093 | ['gr17.json', 'tsp', 'main.py', 'utils.py', 'task.py']\n",
      "1605136993860 | gen\tnevals\tavg    \tstd    \tmin \tmax \n",
      "1605136993860 | 0  \t300   \t4719.15\t431.944\t3255\t5718\n",
      "1605136993860 | 1  \t236   \t4463.13\t451.023\t3167\t5926\n",
      "1605136993860 | 2  \t232   \t4279.6 \t445.297\t3167\t5563\n",
      "1605136993860 | 3  \t232   \t4209.16\t475.449\t3167\t5595\n",
      "1605136993860 | 4  \t217   \t4124.7 \t488.927\t2910\t5401\n",
      "1605136993860 | 5  \t225   \t4084.57\t507.061\t2910\t5410\n",
      "1605136993860 | 6  \t241   \t3986.36\t513.573\t2910\t5396\n",
      "1605136993860 | 7  \t223   \t3943.08\t535.89 \t2910\t5349\n",
      "1605136993860 | 8  \t229   \t3920.14\t544.667\t2910\t5659\n",
      "1605136993860 | 9  \t226   \t3864.24\t571.24 \t2910\t5659\n",
      "1605136993860 | 10 \t226   \t3740.25\t535.789\t3020\t5580\n",
      "1605136993860 | 11 \t212   \t3658.42\t547.03 \t2782\t5799\n",
      "1605136993860 | 12 \t239   \t3598.86\t529.897\t2734\t5050\n",
      "1605136993860 | 13 \t241   \t3596.9 \t531.015\t2734\t5307\n",
      "1605136993860 | 14 \t237   \t3559.86\t517.693\t2742\t5035\n",
      "1605136993860 | 15 \t207   \t3488.93\t523.905\t2751\t5145\n",
      "1605136993860 | 16 \t237   \t3554.57\t547.403\t2769\t5429\n",
      "1605136993860 | 17 \t244   \t3515.05\t507.934\t2693\t5576\n",
      "1605136993860 | 18 \t233   \t3410.13\t499.095\t2693\t5249\n",
      "1605136993860 | 19 \t236   \t3452.38\t591.178\t2725\t5247\n",
      "1605136993860 | 20 \t217   \t3359.16\t556.068\t2708\t5498\n",
      "1605136993860 | 21 \t226   \t3266.46\t526.093\t2676\t5364\n",
      "1605136993860 | 22 \t240   \t3210.08\t519.458\t2580\t4909\n",
      "1605136993860 | 23 \t217   \t2997.89\t389.2  \t2580\t4639\n",
      "1605136993860 | 24 \t226   \t2868.86\t288.251\t2563\t4774\n",
      "1605136993860 | 25 \t233   \t2816.78\t270.075\t2536\t4950\n",
      "1605136993860 | 26 \t224   \t2788.88\t284.809\t2532\t4420\n",
      "1605136993860 | 27 \t234   \t2722.59\t229.692\t2450\t4047\n",
      "1605136993860 | 28 \t219   \t2687.45\t223.813\t2419\t3994\n",
      "1605136993860 | 29 \t234   \t2665.74\t250.57 \t2419\t4519\n",
      "1605136993860 | 30 \t220   \t2656.35\t316.327\t2419\t4212\n",
      "1605136993860 | 31 \t218   \t2608.12\t288.843\t2412\t4713\n",
      "1605136993860 | 32 \t236   \t2585.8 \t277.027\t2412\t4303\n",
      "1605136993860 | 33 \t240   \t2552.55\t302.978\t2341\t4630\n",
      "1605136993860 | 34 \t237   \t2508.94\t248.773\t2341\t4317\n",
      "1605136993860 | 35 \t228   \t2541.44\t366.225\t2341\t4739\n",
      "1605136993860 | 36 \t227   \t2534.43\t354.837\t2341\t4727\n",
      "1605136993860 | 37 \t239   \t2497.04\t310.477\t2341\t4778\n",
      "1605136993860 | 38 \t225   \t2479.14\t324.822\t2341\t4485\n",
      "1605136993860 | 39 \t210   \t2462.4 \t300.919\t2332\t3901\n",
      "1605136993860 | 40 \t233   \t2422.12\t265.829\t2332\t3984\n"
     ]
    }
   ],
   "source": [
    "fo.logs()"
   ]
  },
  {
   "cell_type": "code",
   "execution_count": null,
   "metadata": {},
   "outputs": [],
   "source": []
  }
 ],
 "metadata": {
  "kernelspec": {
   "display_name": "conda_python3",
   "language": "python",
   "name": "conda_python3"
  },
  "language_info": {
   "codemirror_mode": {
    "name": "ipython",
    "version": 3
   },
   "file_extension": ".py",
   "mimetype": "text/x-python",
   "name": "python",
   "nbconvert_exporter": "python",
   "pygments_lexer": "ipython3",
   "version": "3.6.10"
  }
 },
 "nbformat": 4,
 "nbformat_minor": 4
}
