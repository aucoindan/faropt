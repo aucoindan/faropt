{
 "cells": [
  {
   "cell_type": "markdown",
   "metadata": {},
   "source": [
    "# FarOpt Basic Example Notebook"
   ]
  },
  {
   "cell_type": "markdown",
   "metadata": {},
   "source": [
    "### Uninstall any existing versions and reinstall"
   ]
  },
  {
   "cell_type": "code",
   "execution_count": 1,
   "metadata": {},
   "outputs": [
    {
     "name": "stdout",
     "output_type": "stream",
     "text": [
      "Found existing installation: faropt 0.1.4\n",
      "Uninstalling faropt-0.1.4:\n",
      "  Successfully uninstalled faropt-0.1.4\n"
     ]
    }
   ],
   "source": [
    "!pip uninstall faropt -y"
   ]
  },
  {
   "cell_type": "code",
   "execution_count": 2,
   "metadata": {},
   "outputs": [
    {
     "name": "stdout",
     "output_type": "stream",
     "text": [
      "Obtaining file:///home/ec2-user/SageMaker/faropt/sdk\n",
      "Requirement already satisfied: boto3 in /home/ec2-user/anaconda3/envs/python3/lib/python3.6/site-packages (from faropt==0.1.4) (1.16.9)\n",
      "Requirement already satisfied: s3transfer<0.4.0,>=0.3.0 in /home/ec2-user/anaconda3/envs/python3/lib/python3.6/site-packages (from boto3->faropt==0.1.4) (0.3.3)\n",
      "Requirement already satisfied: jmespath<1.0.0,>=0.7.1 in /home/ec2-user/anaconda3/envs/python3/lib/python3.6/site-packages (from boto3->faropt==0.1.4) (0.10.0)\n",
      "Requirement already satisfied: botocore<1.20.0,>=1.19.9 in /home/ec2-user/anaconda3/envs/python3/lib/python3.6/site-packages (from boto3->faropt==0.1.4) (1.19.9)\n",
      "Requirement already satisfied: urllib3<1.26,>=1.25.4; python_version != \"3.4\" in /home/ec2-user/anaconda3/envs/python3/lib/python3.6/site-packages (from botocore<1.20.0,>=1.19.9->boto3->faropt==0.1.4) (1.25.10)\n",
      "Requirement already satisfied: python-dateutil<3.0.0,>=2.1 in /home/ec2-user/anaconda3/envs/python3/lib/python3.6/site-packages (from botocore<1.20.0,>=1.19.9->boto3->faropt==0.1.4) (2.8.1)\n",
      "Requirement already satisfied: six>=1.5 in /home/ec2-user/anaconda3/envs/python3/lib/python3.6/site-packages (from python-dateutil<3.0.0,>=2.1->botocore<1.20.0,>=1.19.9->boto3->faropt==0.1.4) (1.14.0)\n",
      "Installing collected packages: faropt\n",
      "  Running setup.py develop for faropt\n",
      "Successfully installed faropt\n",
      "\u001b[33mWARNING: You are using pip version 20.0.2; however, version 20.2.4 is available.\n",
      "You should consider upgrading via the '/home/ec2-user/anaconda3/envs/python3/bin/python -m pip install --upgrade pip' command.\u001b[0m\n"
     ]
    }
   ],
   "source": [
    "!pip install -e ."
   ]
  },
  {
   "cell_type": "markdown",
   "metadata": {},
   "source": [
    "### Import and initialize a FarOpt object"
   ]
  },
  {
   "cell_type": "code",
   "execution_count": 3,
   "metadata": {},
   "outputs": [],
   "source": [
    "from faropt import FarOpt"
   ]
  },
  {
   "cell_type": "code",
   "execution_count": 4,
   "metadata": {},
   "outputs": [
    {
     "name": "stderr",
     "output_type": "stream",
     "text": [
      "INFO:botocore.credentials:Found credentials in shared credentials file: ~/.aws/credentials\n",
      "INFO:root:FarOpt backend is ready!\n"
     ]
    }
   ],
   "source": [
    "fo = FarOpt()"
   ]
  },
  {
   "cell_type": "markdown",
   "metadata": {},
   "source": [
    "### Sample Vehicle routing problem run using OR tools"
   ]
  },
  {
   "cell_type": "code",
   "execution_count": null,
   "metadata": {},
   "outputs": [],
   "source": [
    "!pygmentize ../tests/src/main.py"
   ]
  },
  {
   "cell_type": "markdown",
   "metadata": {},
   "source": [
    "### Configure and submit the job"
   ]
  },
  {
   "cell_type": "code",
   "execution_count": null,
   "metadata": {},
   "outputs": [],
   "source": [
    "fo.configure('../tests/srcga/')"
   ]
  },
  {
   "cell_type": "code",
   "execution_count": null,
   "metadata": {},
   "outputs": [],
   "source": [
    "fo.submit()"
   ]
  },
  {
   "cell_type": "markdown",
   "metadata": {},
   "source": [
    "### Wait for job to complete\n",
    "\n",
    "look for INFO:root:JOB COMPLETED!"
   ]
  },
  {
   "cell_type": "code",
   "execution_count": 6,
   "metadata": {},
   "outputs": [
    {
     "name": "stdout",
     "output_type": "stream",
     "text": [
      "PROVISIONING\n",
      "PROVISIONING\n",
      "PROVISIONING\n",
      "PROVISIONING\n",
      "PROVISIONING\n"
     ]
    },
    {
     "ename": "KeyboardInterrupt",
     "evalue": "",
     "output_type": "error",
     "traceback": [
      "\u001b[0;31m---------------------------------------------------------------------------\u001b[0m",
      "\u001b[0;31mKeyboardInterrupt\u001b[0m                         Traceback (most recent call last)",
      "\u001b[0;32m<ipython-input-6-49b5e8b90efe>\u001b[0m in \u001b[0;36m<module>\u001b[0;34m\u001b[0m\n\u001b[0;32m----> 1\u001b[0;31m \u001b[0mfo\u001b[0m\u001b[0;34m.\u001b[0m\u001b[0mwait\u001b[0m\u001b[0;34m(\u001b[0m\u001b[0;34m)\u001b[0m\u001b[0;34m\u001b[0m\u001b[0;34m\u001b[0m\u001b[0m\n\u001b[0m",
      "\u001b[0;32m~/SageMaker/faropt/sdk/faropt/__init__.py\u001b[0m in \u001b[0;36mwait\u001b[0;34m(self)\u001b[0m\n\u001b[1;32m    103\u001b[0m         \u001b[0;32mwhile\u001b[0m \u001b[0mself\u001b[0m\u001b[0;34m.\u001b[0m\u001b[0mprimary_status\u001b[0m\u001b[0;34m(\u001b[0m\u001b[0;34m)\u001b[0m\u001b[0;34m!=\u001b[0m\u001b[0;34m'STOPPED'\u001b[0m\u001b[0;34m:\u001b[0m\u001b[0;34m\u001b[0m\u001b[0;34m\u001b[0m\u001b[0m\n\u001b[1;32m    104\u001b[0m             \u001b[0mprint\u001b[0m\u001b[0;34m(\u001b[0m\u001b[0mself\u001b[0m\u001b[0;34m.\u001b[0m\u001b[0mprimary_status\u001b[0m\u001b[0;34m(\u001b[0m\u001b[0;34m)\u001b[0m\u001b[0;34m)\u001b[0m\u001b[0;34m\u001b[0m\u001b[0;34m\u001b[0m\u001b[0m\n\u001b[0;32m--> 105\u001b[0;31m             \u001b[0mtime\u001b[0m\u001b[0;34m.\u001b[0m\u001b[0msleep\u001b[0m\u001b[0;34m(\u001b[0m\u001b[0;36m3\u001b[0m\u001b[0;34m)\u001b[0m\u001b[0;34m\u001b[0m\u001b[0;34m\u001b[0m\u001b[0m\n\u001b[0m\u001b[1;32m    106\u001b[0m \u001b[0;34m\u001b[0m\u001b[0m\n\u001b[1;32m    107\u001b[0m         \u001b[0mlogging\u001b[0m\u001b[0;34m.\u001b[0m\u001b[0minfo\u001b[0m\u001b[0;34m(\u001b[0m\u001b[0;34m\"JOB COMPLETED!\"\u001b[0m\u001b[0;34m)\u001b[0m\u001b[0;34m\u001b[0m\u001b[0;34m\u001b[0m\u001b[0m\n",
      "\u001b[0;31mKeyboardInterrupt\u001b[0m: "
     ]
    }
   ],
   "source": [
    "fo.wait()"
   ]
  },
  {
   "cell_type": "code",
   "execution_count": 8,
   "metadata": {},
   "outputs": [
    {
     "name": "stdout",
     "output_type": "stream",
     "text": [
      "recipeid:ga_problem | bucket:faropt-s3bucketfbfa637e-jauzfgds5cug | path:2020-11-12-01-36-17-115933ee-59de-4802-a62e-6545ea5c30f3/source.zip\n",
      "recipeid:cvrp_problem | bucket:faropt-s3bucketfbfa637e-jauzfgds5cug | path:2020-11-12-01-34-04-a2fba0a1-327f-4f21-8001-e83640f065ee/source.zip\n"
     ]
    }
   ],
   "source": [
    "fo.list_recipes()"
   ]
  },
  {
   "cell_type": "code",
   "execution_count": 9,
   "metadata": {},
   "outputs": [
    {
     "name": "stderr",
     "output_type": "stream",
     "text": [
      "INFO:root:No running tasks. Checking completed tasks...\n",
      "INFO:root:No running tasks. Checking completed tasks...\n"
     ]
    },
    {
     "name": "stdout",
     "output_type": "stream",
     "text": [
      "1605145500095 |  Starting FarOpt backend\n",
      "1605145500095 | ███████╗ █████╗ ██████╗  ██████╗ ██████╗ ████████╗\n",
      "1605145500095 | ██╔════╝██╔══██╗██╔══██╗██╔═══██╗██╔══██╗╚══██╔══╝\n",
      "1605145500095 | █████╗  ███████║██████╔╝██║   ██║██████╔╝   ██║   \n",
      "1605145500095 | ██╔══╝  ██╔══██║██╔══██╗██║   ██║██╔═══╝    ██║   \n",
      "1605145500095 | ██║     ██║  ██║██║  ██║╚██████╔╝██║        ██║   \n",
      "1605145500095 | ╚═╝     ╚═╝  ╚═╝╚═╝  ╚═╝ ╚═════╝ ╚═╝        ╚═╝   \n",
      "1605145500095 | ---------------------------------------------------------------\n",
      "1605145500095 | Downloading source\n",
      "1605145500095 | Looking for source.zip in  faropt-s3bucketfbfa637e-jauzfgds5cug / 2020-11-12-01-44-16-0aa1a401-e2e9-4b28-846d-7d23e2291fc2\n",
      "1605145500095 | Downloaded source.zip, uncompressing\n",
      "1605145500095 | ---------------------------------------------------------------\n",
      "1605145500095 | ['gr17.json', 'tsp', 'main.py', 'utils.py', 'task.py']\n",
      "1605145500877 | gen\tnevals\tavg    \tstd    \tmin \tmax \n",
      "1605145500877 | 0  \t300   \t4719.15\t431.944\t3255\t5718\n",
      "1605145500877 | 1  \t236   \t4463.13\t451.023\t3167\t5926\n",
      "1605145500877 | 2  \t232   \t4279.6 \t445.297\t3167\t5563\n",
      "1605145500877 | 3  \t232   \t4209.16\t475.449\t3167\t5595\n",
      "1605145500877 | 4  \t217   \t4124.7 \t488.927\t2910\t5401\n",
      "1605145500877 | 5  \t225   \t4084.57\t507.061\t2910\t5410\n",
      "1605145500877 | 6  \t241   \t3986.36\t513.573\t2910\t5396\n",
      "1605145500877 | 7  \t223   \t3943.08\t535.89 \t2910\t5349\n",
      "1605145500877 | 8  \t229   \t3920.14\t544.667\t2910\t5659\n",
      "1605145500877 | 9  \t226   \t3864.24\t571.24 \t2910\t5659\n",
      "1605145500877 | 10 \t226   \t3740.25\t535.789\t3020\t5580\n",
      "1605145500877 | 11 \t212   \t3658.42\t547.03 \t2782\t5799\n",
      "1605145500877 | 12 \t239   \t3598.86\t529.897\t2734\t5050\n",
      "1605145500877 | 13 \t241   \t3596.9 \t531.015\t2734\t5307\n",
      "1605145500877 | 14 \t237   \t3559.86\t517.693\t2742\t5035\n",
      "1605145500877 | 15 \t207   \t3488.93\t523.905\t2751\t5145\n",
      "1605145500877 | 16 \t237   \t3554.57\t547.403\t2769\t5429\n",
      "1605145500877 | 17 \t244   \t3515.05\t507.934\t2693\t5576\n",
      "1605145500877 | 18 \t233   \t3410.13\t499.095\t2693\t5249\n",
      "1605145500877 | 19 \t236   \t3452.38\t591.178\t2725\t5247\n",
      "1605145500877 | 20 \t217   \t3359.16\t556.068\t2708\t5498\n",
      "1605145500877 | 21 \t226   \t3266.46\t526.093\t2676\t5364\n",
      "1605145500877 | 22 \t240   \t3210.08\t519.458\t2580\t4909\n",
      "1605145500877 | 23 \t217   \t2997.89\t389.2  \t2580\t4639\n",
      "1605145500877 | 24 \t226   \t2868.86\t288.251\t2563\t4774\n",
      "1605145500877 | 25 \t233   \t2816.78\t270.075\t2536\t4950\n",
      "1605145500877 | 26 \t224   \t2788.88\t284.809\t2532\t4420\n",
      "1605145500877 | 27 \t234   \t2722.59\t229.692\t2450\t4047\n",
      "1605145500877 | 28 \t219   \t2687.45\t223.813\t2419\t3994\n",
      "1605145500877 | 29 \t234   \t2665.74\t250.57 \t2419\t4519\n",
      "1605145500877 | 30 \t220   \t2656.35\t316.327\t2419\t4212\n",
      "1605145500877 | 31 \t218   \t2608.12\t288.843\t2412\t4713\n",
      "1605145500877 | 32 \t236   \t2585.8 \t277.027\t2412\t4303\n",
      "1605145500877 | 33 \t240   \t2552.55\t302.978\t2341\t4630\n",
      "1605145500877 | 34 \t237   \t2508.94\t248.773\t2341\t4317\n",
      "1605145500877 | 35 \t228   \t2541.44\t366.225\t2341\t4739\n",
      "1605145500877 | 36 \t227   \t2534.43\t354.837\t2341\t4727\n",
      "1605145500877 | 37 \t239   \t2497.04\t310.477\t2341\t4778\n",
      "1605145500877 | 38 \t225   \t2479.14\t324.822\t2341\t4485\n",
      "1605145500877 | 39 \t210   \t2462.4 \t300.919\t2332\t3901\n",
      "1605145500877 | 40 \t233   \t2422.12\t265.829\t2332\t3984\n"
     ]
    }
   ],
   "source": [
    "fo.logs()"
   ]
  },
  {
   "cell_type": "markdown",
   "metadata": {},
   "source": [
    "### Optionally Add this problem as a standard recipe"
   ]
  },
  {
   "cell_type": "code",
   "execution_count": null,
   "metadata": {},
   "outputs": [],
   "source": [
    "fo.add_recipe('cvrp_problem')"
   ]
  },
  {
   "cell_type": "markdown",
   "metadata": {},
   "source": [
    "### Rerun this recipe at any time"
   ]
  },
  {
   "cell_type": "code",
   "execution_count": 5,
   "metadata": {},
   "outputs": [
    {
     "name": "stderr",
     "output_type": "stream",
     "text": [
      "INFO:root:Downloading recipe...\n",
      "INFO:root:Configured job!\n",
      "INFO:root:Submitting job\n",
      "INFO:root:Submitted job! id: 2020-11-12-01-44-16-0aa1a401-e2e9-4b28-846d-7d23e2291fc2\n"
     ]
    }
   ],
   "source": [
    "fo.run_recipe('cvrp_problem')"
   ]
  },
  {
   "cell_type": "code",
   "execution_count": null,
   "metadata": {},
   "outputs": [],
   "source": []
  },
  {
   "cell_type": "markdown",
   "metadata": {},
   "source": [
    "### List past jobs and recipes"
   ]
  },
  {
   "cell_type": "code",
   "execution_count": null,
   "metadata": {},
   "outputs": [],
   "source": [
    "fo.list_jobs()"
   ]
  },
  {
   "cell_type": "code",
   "execution_count": null,
   "metadata": {},
   "outputs": [],
   "source": [
    "fo.list_recipes()"
   ]
  },
  {
   "cell_type": "code",
   "execution_count": null,
   "metadata": {},
   "outputs": [],
   "source": [
    "fo.configure('../tests/srcga/')"
   ]
  },
  {
   "cell_type": "code",
   "execution_count": null,
   "metadata": {},
   "outputs": [],
   "source": [
    "fo.add_recipe('ga_problem')"
   ]
  },
  {
   "cell_type": "code",
   "execution_count": null,
   "metadata": {},
   "outputs": [],
   "source": [
    "!pygmentize ../tests/srcga/main.py"
   ]
  },
  {
   "cell_type": "code",
   "execution_count": null,
   "metadata": {},
   "outputs": [],
   "source": []
  }
 ],
 "metadata": {
  "kernelspec": {
   "display_name": "conda_python3",
   "language": "python",
   "name": "conda_python3"
  },
  "language_info": {
   "codemirror_mode": {
    "name": "ipython",
    "version": 3
   },
   "file_extension": ".py",
   "mimetype": "text/x-python",
   "name": "python",
   "nbconvert_exporter": "python",
   "pygments_lexer": "ipython3",
   "version": "3.6.10"
  }
 },
 "nbformat": 4,
 "nbformat_minor": 4
}
