{
 "cells": [
  {
   "cell_type": "markdown",
   "metadata": {},
   "source": [
    "# FarOpt Basic Example Notebook"
   ]
  },
  {
   "cell_type": "markdown",
   "metadata": {},
   "source": [
    "### Uninstall any existing versions and reinstall"
   ]
  },
  {
   "cell_type": "code",
   "execution_count": 1,
   "metadata": {},
   "outputs": [
    {
     "name": "stdout",
     "output_type": "stream",
     "text": [
      "Found existing installation: faropt 0.2.1\n",
      "Uninstalling faropt-0.2.1:\n",
      "  Successfully uninstalled faropt-0.2.1\n"
     ]
    }
   ],
   "source": [
    "!pip uninstall faropt -y"
   ]
  },
  {
   "cell_type": "code",
   "execution_count": 2,
   "metadata": {},
   "outputs": [
    {
     "name": "stdout",
     "output_type": "stream",
     "text": [
      "Obtaining file:///home/ec2-user/SageMaker/faroptsdk/faropt/sdk\n",
      "Requirement already satisfied: boto3 in /home/ec2-user/anaconda3/envs/python3/lib/python3.6/site-packages (from faropt==0.2.1) (1.16.9)\n",
      "Requirement already satisfied: jmespath<1.0.0,>=0.7.1 in /home/ec2-user/anaconda3/envs/python3/lib/python3.6/site-packages (from boto3->faropt==0.2.1) (0.10.0)\n",
      "Requirement already satisfied: botocore<1.20.0,>=1.19.9 in /home/ec2-user/anaconda3/envs/python3/lib/python3.6/site-packages (from boto3->faropt==0.2.1) (1.19.9)\n",
      "Requirement already satisfied: s3transfer<0.4.0,>=0.3.0 in /home/ec2-user/anaconda3/envs/python3/lib/python3.6/site-packages (from boto3->faropt==0.2.1) (0.3.3)\n",
      "Requirement already satisfied: urllib3<1.26,>=1.25.4; python_version != \"3.4\" in /home/ec2-user/anaconda3/envs/python3/lib/python3.6/site-packages (from botocore<1.20.0,>=1.19.9->boto3->faropt==0.2.1) (1.25.10)\n",
      "Requirement already satisfied: python-dateutil<3.0.0,>=2.1 in /home/ec2-user/anaconda3/envs/python3/lib/python3.6/site-packages (from botocore<1.20.0,>=1.19.9->boto3->faropt==0.2.1) (2.8.1)\n",
      "Requirement already satisfied: six>=1.5 in /home/ec2-user/anaconda3/envs/python3/lib/python3.6/site-packages (from python-dateutil<3.0.0,>=2.1->botocore<1.20.0,>=1.19.9->boto3->faropt==0.2.1) (1.14.0)\n",
      "Installing collected packages: faropt\n",
      "  Running setup.py develop for faropt\n",
      "Successfully installed faropt\n",
      "\u001b[33mWARNING: You are using pip version 20.0.2; however, version 20.2.4 is available.\n",
      "You should consider upgrading via the '/home/ec2-user/anaconda3/envs/python3/bin/python -m pip install --upgrade pip' command.\u001b[0m\n"
     ]
    }
   ],
   "source": [
    "!pip install -e ."
   ]
  },
  {
   "cell_type": "markdown",
   "metadata": {},
   "source": [
    "### Import and initialize a FarOpt object"
   ]
  },
  {
   "cell_type": "code",
   "execution_count": 3,
   "metadata": {},
   "outputs": [],
   "source": [
    "from faropt import FarOpt"
   ]
  },
  {
   "cell_type": "code",
   "execution_count": 4,
   "metadata": {},
   "outputs": [
    {
     "name": "stderr",
     "output_type": "stream",
     "text": [
      "INFO:root:FarOpt backend is ready!\n"
     ]
    }
   ],
   "source": [
    "fo = FarOpt()"
   ]
  },
  {
   "cell_type": "code",
   "execution_count": 5,
   "metadata": {},
   "outputs": [
    {
     "name": "stdout",
     "output_type": "stream",
     "text": [
      "jobid:2020-11-18-16-48-56-348e3e9d-dcf4-46b9-94a9-459b905205a1 | bucket:faropt-s3bucketfbfa637e-jauzfgds5cug | path:2020-11-18-16-48-56-348e3e9d-dcf4-46b9-94a9-459b905205a1/source.zip\n",
      "jobid:2020-11-18-17-41-15-c3193dd3-2b4b-4955-a515-d17eb21d23bd | bucket:faropt-s3bucketfbfa637e-jauzfgds5cug | path:2020-11-18-17-41-15-c3193dd3-2b4b-4955-a515-d17eb21d23bd//tmp/source.zip\n",
      "jobid:2020-11-18-16-29-07-7f3a69c9-02f3-4fc6-92b5-e447dfb50ce8 | bucket:faropt-s3bucketfbfa637e-jauzfgds5cug | path:2020-11-18-16-29-07-7f3a69c9-02f3-4fc6-92b5-e447dfb50ce8/source.zip\n",
      "jobid:2020-11-18-17-16-30-18c2fba9-1bc4-4472-abde-56f7867b2669 | bucket:faropt-s3bucketfbfa637e-jauzfgds5cug | path:2020-11-18-17-16-30-18c2fba9-1bc4-4472-abde-56f7867b2669//tmp/source.zip\n",
      "jobid:2020-11-18-17-14-04-6ef6081e-20c4-4a3c-b72e-918b380d419f | bucket:faropt-s3bucketfbfa637e-jauzfgds5cug | path:2020-11-18-17-14-04-6ef6081e-20c4-4a3c-b72e-918b380d419f//tmp/source.zip\n",
      "jobid:2020-11-19-00-12-16-d3276d63-326f-47a1-80fd-c08a6a7727c7 | bucket:faropt-s3bucketfbfa637e-jauzfgds5cug | path:2020-11-19-00-12-16-d3276d63-326f-47a1-80fd-c08a6a7727c7/source.zip\n",
      "jobid:2020-11-18-17-14-37-420b2974-fbaa-489e-846d-9a6c4daacceb | bucket:faropt-s3bucketfbfa637e-jauzfgds5cug | path:2020-11-18-17-14-37-420b2974-fbaa-489e-846d-9a6c4daacceb//tmp/source.zip\n",
      "jobid:2020-11-18-17-59-01-9c4215a7-b083-43ca-bc71-8af6747ef73f | bucket:faropt-s3bucketfbfa637e-jauzfgds5cug | path:2020-11-18-17-59-01-9c4215a7-b083-43ca-bc71-8af6747ef73f//tmp/source.zip\n",
      "jobid:2020-11-18-23-05-52-46a9444b-91da-4ce2-8925-a8fdba4bdc8b | bucket:faropt-s3bucketfbfa637e-jauzfgds5cug | path:2020-11-18-23-05-52-46a9444b-91da-4ce2-8925-a8fdba4bdc8b/source.zip\n",
      "jobid:2020-11-19-00-18-37-79be4b5c-3e03-49cd-a507-ea8d0f3b8456 | bucket:faropt-s3bucketfbfa637e-jauzfgds5cug | path:2020-11-19-00-18-37-79be4b5c-3e03-49cd-a507-ea8d0f3b8456/source.zip\n"
     ]
    }
   ],
   "source": [
    "fo.list_jobs()"
   ]
  },
  {
   "cell_type": "code",
   "execution_count": 6,
   "metadata": {},
   "outputs": [
    {
     "name": "stderr",
     "output_type": "stream",
     "text": [
      "INFO:root:Downloading source...\n",
      "INFO:root:Configured job!\n",
      "INFO:root:Submitting job\n",
      "INFO:root:Submitted job! id: 2020-11-19-00-21-13-5daa81db-16f6-4bee-a67d-3f90349f2c54\n"
     ]
    }
   ],
   "source": [
    "fo.run_s3_job(bucket='faropt-s3bucketfbfa637e-jauzfgds5cug',key='2020-11-18-16-52-47-53780b05-d849-4e2f-b70c-f62ef58baa83/source.zip')"
   ]
  },
  {
   "cell_type": "code",
   "execution_count": null,
   "metadata": {},
   "outputs": [],
   "source": [
    "fo.wait()"
   ]
  },
  {
   "cell_type": "code",
   "execution_count": null,
   "metadata": {},
   "outputs": [],
   "source": [
    "fo.logs()"
   ]
  },
  {
   "cell_type": "markdown",
   "metadata": {},
   "source": [
    "# Sample Vehicle routing problem run using OR tools"
   ]
  },
  {
   "cell_type": "code",
   "execution_count": null,
   "metadata": {},
   "outputs": [],
   "source": []
  },
  {
   "cell_type": "code",
   "execution_count": null,
   "metadata": {},
   "outputs": [],
   "source": [
    "!pygmentize ../tests/src/main.py"
   ]
  },
  {
   "cell_type": "markdown",
   "metadata": {},
   "source": [
    "### Configure and submit the job"
   ]
  },
  {
   "cell_type": "code",
   "execution_count": 7,
   "metadata": {},
   "outputs": [
    {
     "name": "stderr",
     "output_type": "stream",
     "text": [
      "INFO:root:Listing project files ...\n",
      "INFO:root:Configured job!\n"
     ]
    },
    {
     "name": "stdout",
     "output_type": "stream",
     "text": [
      "../tests/srcga/ ['tsp'] ['main.py', 'gr17.json']\n",
      "main.py\n",
      "gr17.json\n",
      "../tests/srcga/tsp [] ['gr17.json']\n",
      "gr17.json\n"
     ]
    }
   ],
   "source": [
    "fo.configure('../tests/srcga/')"
   ]
  },
  {
   "cell_type": "code",
   "execution_count": 8,
   "metadata": {},
   "outputs": [
    {
     "name": "stderr",
     "output_type": "stream",
     "text": [
      "INFO:root:Submitting job\n",
      "INFO:root:Submitted job! id: 2020-11-19-00-21-20-dc16539a-146e-4533-8a63-252b867e2647\n"
     ]
    }
   ],
   "source": [
    "fo.submit()"
   ]
  },
  {
   "cell_type": "markdown",
   "metadata": {},
   "source": [
    "### Wait for job to complete\n",
    "\n",
    "look for INFO:root:JOB COMPLETED!"
   ]
  },
  {
   "cell_type": "code",
   "execution_count": null,
   "metadata": {},
   "outputs": [],
   "source": [
    "fo.wait()"
   ]
  },
  {
   "cell_type": "code",
   "execution_count": null,
   "metadata": {},
   "outputs": [],
   "source": [
    "fo.list_recipes(verbose=False)"
   ]
  },
  {
   "cell_type": "code",
   "execution_count": null,
   "metadata": {},
   "outputs": [],
   "source": [
    "fo.logs()"
   ]
  },
  {
   "cell_type": "markdown",
   "metadata": {},
   "source": [
    "### Optionally Add this problem as a standard recipe"
   ]
  },
  {
   "cell_type": "code",
   "execution_count": null,
   "metadata": {},
   "outputs": [],
   "source": [
    "fo.add_recipe('ga_problem_2')"
   ]
  },
  {
   "cell_type": "markdown",
   "metadata": {},
   "source": [
    "### Rerun this recipe at any time"
   ]
  },
  {
   "cell_type": "code",
   "execution_count": null,
   "metadata": {},
   "outputs": [],
   "source": [
    "fo.list_recipes()"
   ]
  },
  {
   "cell_type": "code",
   "execution_count": null,
   "metadata": {},
   "outputs": [],
   "source": [
    "fo.get_recipe_id_from_description('ga_problem_2')"
   ]
  },
  {
   "cell_type": "code",
   "execution_count": 9,
   "metadata": {},
   "outputs": [
    {
     "name": "stderr",
     "output_type": "stream",
     "text": [
      "INFO:root:Downloading recipe...\n",
      "INFO:root:Configured job!\n",
      "INFO:root:Submitting job\n",
      "INFO:root:Submitted job! id: 2020-11-19-00-21-27-d36b1313-9b43-44e9-98cb-a2726bc6305b\n"
     ]
    }
   ],
   "source": [
    "fo.run_recipe(fo.get_recipe_id_from_description('ga_problem_2'))"
   ]
  },
  {
   "cell_type": "code",
   "execution_count": null,
   "metadata": {},
   "outputs": [],
   "source": [
    "fo.wait()"
   ]
  },
  {
   "cell_type": "code",
   "execution_count": 10,
   "metadata": {},
   "outputs": [
    {
     "name": "stderr",
     "output_type": "stream",
     "text": [
      "INFO:root:No running tasks. Checking completed tasks...\n",
      "INFO:root:No running tasks. Checking completed tasks...\n"
     ]
    },
    {
     "name": "stdout",
     "output_type": "stream",
     "text": [
      "1605745336013 |  Starting FarOpt backend\n",
      "1605745336013 | ███████╗ █████╗ ██████╗  ██████╗ ██████╗ ████████╗\n",
      "1605745336013 | ██╔════╝██╔══██╗██╔══██╗██╔═══██╗██╔══██╗╚══██╔══╝\n",
      "1605745336013 | █████╗  ███████║██████╔╝██║   ██║██████╔╝   ██║   \n",
      "1605745336013 | ██╔══╝  ██╔══██║██╔══██╗██║   ██║██╔═══╝    ██║   \n",
      "1605745336013 | ██║     ██║  ██║██║  ██║╚██████╔╝██║        ██║   \n",
      "1605745336013 | ╚═╝     ╚═╝  ╚═╝╚═╝  ╚═╝ ╚═════╝ ╚═╝        ╚═╝   \n",
      "1605745336013 | ---------------------------------------------------------------\n",
      "1605745336013 | Downloading source\n",
      "1605745336013 | Looking for source.zip in  faropt-s3bucketfbfa637e-jauzfgds5cug / 2020-11-19-00-21-27-d36b1313-9b43-44e9-98cb-a2726bc6305b\n",
      "1605745336013 | Downloaded source.zip, uncompressing\n",
      "1605745336013 | ---------------------------------------------------------------\n",
      "1605745336013 | ['gr17.json', 'tsp', 'main.py', 'utils.py', 'task.py']\n",
      "1605745336785 | gen\tnevals\tavg    \tstd    \tmin \tmax \n",
      "1605745336785 | 0  \t300   \t4719.15\t431.944\t3255\t5718\n",
      "1605745336785 | 1  \t236   \t4463.13\t451.023\t3167\t5926\n",
      "1605745336785 | 2  \t232   \t4279.6 \t445.297\t3167\t5563\n",
      "1605745336785 | 3  \t232   \t4209.16\t475.449\t3167\t5595\n",
      "1605745336785 | 4  \t217   \t4124.7 \t488.927\t2910\t5401\n",
      "1605745336785 | 5  \t225   \t4084.57\t507.061\t2910\t5410\n",
      "1605745336785 | 6  \t241   \t3986.36\t513.573\t2910\t5396\n",
      "1605745336785 | 7  \t223   \t3943.08\t535.89 \t2910\t5349\n",
      "1605745336785 | 8  \t229   \t3920.14\t544.667\t2910\t5659\n",
      "1605745336785 | 9  \t226   \t3864.24\t571.24 \t2910\t5659\n",
      "1605745336785 | 10 \t226   \t3740.25\t535.789\t3020\t5580\n",
      "1605745336785 | 11 \t212   \t3658.42\t547.03 \t2782\t5799\n",
      "1605745336785 | 12 \t239   \t3598.86\t529.897\t2734\t5050\n",
      "1605745336785 | 13 \t241   \t3596.9 \t531.015\t2734\t5307\n",
      "1605745336785 | 14 \t237   \t3559.86\t517.693\t2742\t5035\n",
      "1605745336785 | 15 \t207   \t3488.93\t523.905\t2751\t5145\n",
      "1605745336785 | 16 \t237   \t3554.57\t547.403\t2769\t5429\n",
      "1605745336785 | 17 \t244   \t3515.05\t507.934\t2693\t5576\n",
      "1605745336785 | 18 \t233   \t3410.13\t499.095\t2693\t5249\n",
      "1605745336785 | 19 \t236   \t3452.38\t591.178\t2725\t5247\n",
      "1605745336785 | 20 \t217   \t3359.16\t556.068\t2708\t5498\n",
      "1605745336785 | 21 \t226   \t3266.46\t526.093\t2676\t5364\n",
      "1605745336785 | 22 \t240   \t3210.08\t519.458\t2580\t4909\n",
      "1605745336785 | 23 \t217   \t2997.89\t389.2  \t2580\t4639\n",
      "1605745336785 | 24 \t226   \t2868.86\t288.251\t2563\t4774\n",
      "1605745336785 | 25 \t233   \t2816.78\t270.075\t2536\t4950\n",
      "1605745336785 | 26 \t224   \t2788.88\t284.809\t2532\t4420\n",
      "1605745336785 | 27 \t234   \t2722.59\t229.692\t2450\t4047\n",
      "1605745336785 | 28 \t219   \t2687.45\t223.813\t2419\t3994\n",
      "1605745336785 | 29 \t234   \t2665.74\t250.57 \t2419\t4519\n",
      "1605745336785 | 30 \t220   \t2656.35\t316.327\t2419\t4212\n",
      "1605745336785 | 31 \t218   \t2608.12\t288.843\t2412\t4713\n",
      "1605745336785 | 32 \t236   \t2585.8 \t277.027\t2412\t4303\n",
      "1605745336785 | 33 \t240   \t2552.55\t302.978\t2341\t4630\n",
      "1605745336785 | 34 \t237   \t2508.94\t248.773\t2341\t4317\n",
      "1605745336785 | 35 \t228   \t2541.44\t366.225\t2341\t4739\n",
      "1605745336785 | 36 \t227   \t2534.43\t354.837\t2341\t4727\n",
      "1605745336785 | 37 \t239   \t2497.04\t310.477\t2341\t4778\n",
      "1605745336785 | 38 \t225   \t2479.14\t324.822\t2341\t4485\n",
      "1605745336785 | 39 \t210   \t2462.4 \t300.919\t2332\t3901\n",
      "1605745336785 | 40 \t233   \t2422.12\t265.829\t2332\t3984\n"
     ]
    }
   ],
   "source": [
    "fo.logs()"
   ]
  },
  {
   "cell_type": "markdown",
   "metadata": {},
   "source": [
    "### List past jobs and recipes"
   ]
  },
  {
   "cell_type": "code",
   "execution_count": 11,
   "metadata": {},
   "outputs": [
    {
     "data": {
      "text/plain": [
       "{'Label': 'fstar',\n",
       " 'Datapoints': [{'Timestamp': datetime.datetime(2020, 11, 19, 0, 22, tzinfo=tzlocal()),\n",
       "   'Average': 2332.0,\n",
       "   'Minimum': 2332.0,\n",
       "   'Maximum': 2332.0,\n",
       "   'Unit': 'None'}],\n",
       " 'ResponseMetadata': {'RequestId': 'e9507a8f-b4fa-4bc7-b790-8eb59d8c6de2',\n",
       "  'HTTPStatusCode': 200,\n",
       "  'HTTPHeaders': {'x-amzn-requestid': 'e9507a8f-b4fa-4bc7-b790-8eb59d8c6de2',\n",
       "   'content-type': 'text/xml',\n",
       "   'content-length': '556',\n",
       "   'date': 'Thu, 19 Nov 2020 00:22:37 GMT'},\n",
       "  'RetryAttempts': 0}}"
      ]
     },
     "execution_count": 11,
     "metadata": {},
     "output_type": "execute_result"
    }
   ],
   "source": [
    "fo.get_metric_data('fstar')"
   ]
  },
  {
   "cell_type": "code",
   "execution_count": null,
   "metadata": {},
   "outputs": [],
   "source": [
    "fo.list_jobs()"
   ]
  },
  {
   "cell_type": "code",
   "execution_count": 14,
   "metadata": {},
   "outputs": [
    {
     "name": "stdout",
     "output_type": "stream",
     "text": [
      "recipeid:1231bcba5df-952b-4afa-b059-8cd88cf80c17 | bucket:faropt-s3bucketfbfa637e-jauzfgds5cug | path:0e840471-5208-4856-9791-ab7e2b5dddd2/source.zip | description:Numerical Optimization test v0-2-2 sdk | maintainer:FarOpt\n"
     ]
    }
   ],
   "source": [
    "fo.list_recipes()"
   ]
  },
  {
   "cell_type": "code",
   "execution_count": null,
   "metadata": {},
   "outputs": [],
   "source": [
    "fo.configure('../tests/src/')"
   ]
  },
  {
   "cell_type": "code",
   "execution_count": null,
   "metadata": {},
   "outputs": [],
   "source": [
    "fo.add_recipe('cvrp_problem_test_sdk')"
   ]
  },
  {
   "cell_type": "code",
   "execution_count": 15,
   "metadata": {},
   "outputs": [
    {
     "name": "stderr",
     "output_type": "stream",
     "text": [
      "INFO:root:Downloading recipe...\n",
      "INFO:root:Configured job!\n",
      "INFO:root:Submitting job\n",
      "INFO:root:Submitted job! id: 2020-11-19-00-34-22-de560098-6cce-43f9-a655-6b0c9c8d1af2\n"
     ]
    }
   ],
   "source": [
    "fo.run_recipe(recipe_id='1231bcba5df-952b-4afa-b059-8cd88cf80c17')"
   ]
  },
  {
   "cell_type": "code",
   "execution_count": null,
   "metadata": {},
   "outputs": [],
   "source": [
    "fo.wait()"
   ]
  },
  {
   "cell_type": "code",
   "execution_count": 22,
   "metadata": {},
   "outputs": [
    {
     "data": {
      "text/plain": [
       "'faropt-s3bucketfbfa637e-jauzfgds5cug'"
      ]
     },
     "execution_count": 22,
     "metadata": {},
     "output_type": "execute_result"
    }
   ],
   "source": [
    "fo.bucket"
   ]
  },
  {
   "cell_type": "code",
   "execution_count": 17,
   "metadata": {},
   "outputs": [],
   "source": [
    "import boto3"
   ]
  },
  {
   "cell_type": "code",
   "execution_count": 18,
   "metadata": {},
   "outputs": [],
   "source": [
    "s3_client = boto3.client('s3')"
   ]
  },
  {
   "cell_type": "code",
   "execution_count": 24,
   "metadata": {},
   "outputs": [],
   "source": [
    "from datetime import datetime\n",
    "from uuid import uuid4\n",
    "eventid = datetime.now().strftime('%Y-%m-%d-%H-%M-%S')+'-'+str(uuid4())\n",
    "response = s3_client.upload_file('/tmp/source.zip', fo.bucket,eventid+'/source.zip')"
   ]
  },
  {
   "cell_type": "code",
   "execution_count": 25,
   "metadata": {},
   "outputs": [
    {
     "data": {
      "text/plain": [
       "'2020-11-19-00-51-05-c469d5bc-3f8f-495f-bd34-99954571dbb0'"
      ]
     },
     "execution_count": 25,
     "metadata": {},
     "output_type": "execute_result"
    }
   ],
   "source": [
    "eventid"
   ]
  },
  {
   "cell_type": "code",
   "execution_count": null,
   "metadata": {},
   "outputs": [],
   "source": [
    "!pygmentize ../tests/srcga/main.py"
   ]
  },
  {
   "cell_type": "code",
   "execution_count": null,
   "metadata": {},
   "outputs": [],
   "source": [
    "import boto3\n",
    "\n",
    "cloudwatch = boto3.resource('cloudwatch')\n",
    "metric = cloudwatch.Metric('FarOpt','fstar')"
   ]
  },
  {
   "cell_type": "code",
   "execution_count": null,
   "metadata": {},
   "outputs": [],
   "source": [
    "response = metric.get_statistics(\n",
    "    Dimensions=[\n",
    "        {\n",
    "            'Name': 'jobid',\n",
    "            'Value': fo.jobname\n",
    "        },\n",
    "    ],\n",
    "    StartTime=datetime.datetime.now() - datetime.timedelta(minutes=24),\n",
    "    EndTime=datetime.datetime.now(),\n",
    "    Period=1,Statistics=['Average','Minimum','Maximum'])"
   ]
  },
  {
   "cell_type": "code",
   "execution_count": null,
   "metadata": {},
   "outputs": [],
   "source": [
    "response"
   ]
  },
  {
   "cell_type": "code",
   "execution_count": null,
   "metadata": {},
   "outputs": [],
   "source": [
    "import datetime"
   ]
  },
  {
   "cell_type": "code",
   "execution_count": null,
   "metadata": {},
   "outputs": [],
   "source": [
    "datetime.datetime.now() - datetime.timedelta()"
   ]
  },
  {
   "cell_type": "code",
   "execution_count": null,
   "metadata": {},
   "outputs": [],
   "source": [
    "import boto3\n",
    "\n",
    "# Create CloudWatch client\n",
    "cloudwatch = boto3.client('cloudwatch')\n",
    "\n",
    "# List metrics through the pagination interface\n",
    "paginator = cloudwatch.get_paginator('list_metrics')\n",
    "page = 1\n",
    "for response in paginator.paginate(Dimensions=[{'Name': 'jobid'}],\n",
    "                                   MetricName='IncomingLogEvents',\n",
    "                                   Namespace='FarOpt'):\n",
    "    print(page)\n",
    "    page+=1\n",
    "    print(response['Metrics'])\n",
    "    for n in response['Metrics']:\n",
    "        print(n['Dimensions'])"
   ]
  },
  {
   "cell_type": "code",
   "execution_count": null,
   "metadata": {},
   "outputs": [],
   "source": []
  }
 ],
 "metadata": {
  "kernelspec": {
   "display_name": "conda_python3",
   "language": "python",
   "name": "conda_python3"
  },
  "language_info": {
   "codemirror_mode": {
    "name": "ipython",
    "version": 3
   },
   "file_extension": ".py",
   "mimetype": "text/x-python",
   "name": "python",
   "nbconvert_exporter": "python",
   "pygments_lexer": "ipython3",
   "version": "3.6.10"
  }
 },
 "nbformat": 4,
 "nbformat_minor": 4
}
