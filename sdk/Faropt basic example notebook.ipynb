{
 "cells": [
  {
   "cell_type": "markdown",
   "metadata": {},
   "source": [
    "# FarOpt Basic Example Notebook"
   ]
  },
  {
   "cell_type": "markdown",
   "metadata": {},
   "source": [
    "### Uninstall any existing versions and reinstall"
   ]
  },
  {
   "cell_type": "code",
   "execution_count": 1,
   "metadata": {},
   "outputs": [
    {
     "name": "stdout",
     "output_type": "stream",
     "text": [
      "Found existing installation: faropt 0.1.5\n",
      "Uninstalling faropt-0.1.5:\n",
      "  Successfully uninstalled faropt-0.1.5\n"
     ]
    }
   ],
   "source": [
    "!pip uninstall faropt -y"
   ]
  },
  {
   "cell_type": "code",
   "execution_count": 2,
   "metadata": {},
   "outputs": [
    {
     "name": "stdout",
     "output_type": "stream",
     "text": [
      "Obtaining file:///home/ec2-user/SageMaker/faropt/sdk\n",
      "Requirement already satisfied: boto3 in /home/ec2-user/anaconda3/envs/python3/lib/python3.6/site-packages (from faropt==0.1.5) (1.16.9)\n",
      "Requirement already satisfied: jmespath<1.0.0,>=0.7.1 in /home/ec2-user/anaconda3/envs/python3/lib/python3.6/site-packages (from boto3->faropt==0.1.5) (0.10.0)\n",
      "Requirement already satisfied: botocore<1.20.0,>=1.19.9 in /home/ec2-user/anaconda3/envs/python3/lib/python3.6/site-packages (from boto3->faropt==0.1.5) (1.19.9)\n",
      "Requirement already satisfied: s3transfer<0.4.0,>=0.3.0 in /home/ec2-user/anaconda3/envs/python3/lib/python3.6/site-packages (from boto3->faropt==0.1.5) (0.3.3)\n",
      "Requirement already satisfied: python-dateutil<3.0.0,>=2.1 in /home/ec2-user/anaconda3/envs/python3/lib/python3.6/site-packages (from botocore<1.20.0,>=1.19.9->boto3->faropt==0.1.5) (2.8.1)\n",
      "Requirement already satisfied: urllib3<1.26,>=1.25.4; python_version != \"3.4\" in /home/ec2-user/anaconda3/envs/python3/lib/python3.6/site-packages (from botocore<1.20.0,>=1.19.9->boto3->faropt==0.1.5) (1.25.10)\n",
      "Requirement already satisfied: six>=1.5 in /home/ec2-user/anaconda3/envs/python3/lib/python3.6/site-packages (from python-dateutil<3.0.0,>=2.1->botocore<1.20.0,>=1.19.9->boto3->faropt==0.1.5) (1.14.0)\n",
      "Installing collected packages: faropt\n",
      "  Running setup.py develop for faropt\n",
      "Successfully installed faropt\n",
      "\u001b[33mWARNING: You are using pip version 20.0.2; however, version 20.2.4 is available.\n",
      "You should consider upgrading via the '/home/ec2-user/anaconda3/envs/python3/bin/python -m pip install --upgrade pip' command.\u001b[0m\n"
     ]
    }
   ],
   "source": [
    "!pip install -e ."
   ]
  },
  {
   "cell_type": "markdown",
   "metadata": {},
   "source": [
    "### Import and initialize a FarOpt object"
   ]
  },
  {
   "cell_type": "code",
   "execution_count": 3,
   "metadata": {},
   "outputs": [],
   "source": [
    "from faropt import FarOpt"
   ]
  },
  {
   "cell_type": "code",
   "execution_count": 4,
   "metadata": {},
   "outputs": [
    {
     "name": "stderr",
     "output_type": "stream",
     "text": [
      "INFO:botocore.credentials:Found credentials in shared credentials file: ~/.aws/credentials\n",
      "INFO:root:FarOpt backend is ready!\n"
     ]
    }
   ],
   "source": [
    "fo = FarOpt()"
   ]
  },
  {
   "cell_type": "code",
   "execution_count": 5,
   "metadata": {},
   "outputs": [
    {
     "name": "stdout",
     "output_type": "stream",
     "text": [
      "jobid:2020-11-12-01-21-13-953576ea-455c-4afe-ba6f-09ff616b0a9a | bucket:faropt-s3bucketfbfa637e-jauzfgds5cug | path:2020-11-12-01-21-13-953576ea-455c-4afe-ba6f-09ff616b0a9a/source.zip\n",
      "jobid:2020-11-12-00-26-29-d25426f3-4615-4b5f-9f40-4d5c7dad0c4c | bucket:faropt-s3bucketfbfa637e-jauzfgds5cug | path:2020-11-12-00-26-29-d25426f3-4615-4b5f-9f40-4d5c7dad0c4c/source.zip\n",
      "jobid:2020-11-12-01-44-16-0aa1a401-e2e9-4b28-846d-7d23e2291fc2 | bucket:faropt-s3bucketfbfa637e-jauzfgds5cug | path:2020-11-12-01-44-16-0aa1a401-e2e9-4b28-846d-7d23e2291fc2/source.zip\n",
      "jobid:2020-11-12-01-22-07-f40e8b89-e2e7-42d7-82b8-964d300a11ed | bucket:faropt-s3bucketfbfa637e-jauzfgds5cug | path:2020-11-12-01-22-07-f40e8b89-e2e7-42d7-82b8-964d300a11ed/source.zip\n",
      "jobid:2020-11-12-01-10-52-a14f2df2-031f-4424-9b0f-ed0ad71d1155 | bucket:faropt-s3bucketfbfa637e-jauzfgds5cug | path:2020-11-12-01-10-52-a14f2df2-031f-4424-9b0f-ed0ad71d1155/source.zip\n",
      "jobid:2020-11-12-01-24-15-3caf57a2-aed7-4cf4-8cb2-22ccccf54410 | bucket:faropt-s3bucketfbfa637e-jauzfgds5cug | path:2020-11-12-01-24-15-3caf57a2-aed7-4cf4-8cb2-22ccccf54410/source.zip\n",
      "jobid:2020-11-12-01-24-27-0fe44763-83a7-4d72-8391-1047f3208cb0 | bucket:faropt-s3bucketfbfa637e-jauzfgds5cug | path:2020-11-12-01-24-27-0fe44763-83a7-4d72-8391-1047f3208cb0/source.zip\n",
      "jobid:2020-11-12-01-14-21-46994fe4-c6d8-4f44-a2e4-e66454b12670 | bucket:faropt-s3bucketfbfa637e-jauzfgds5cug | path:2020-11-12-01-14-21-46994fe4-c6d8-4f44-a2e4-e66454b12670/source.zip\n",
      "jobid:2020-11-12-01-34-04-a2fba0a1-327f-4f21-8001-e83640f065ee | bucket:faropt-s3bucketfbfa637e-jauzfgds5cug | path:2020-11-12-01-34-04-a2fba0a1-327f-4f21-8001-e83640f065ee/source.zip\n",
      "jobid:2020-11-12-01-25-18-8f565343-5960-4406-b453-b8a5213b6436 | bucket:faropt-s3bucketfbfa637e-jauzfgds5cug | path:2020-11-12-01-25-18-8f565343-5960-4406-b453-b8a5213b6436/source.zip\n"
     ]
    }
   ],
   "source": [
    "fo.list_jobs()"
   ]
  },
  {
   "cell_type": "code",
   "execution_count": 7,
   "metadata": {},
   "outputs": [
    {
     "name": "stderr",
     "output_type": "stream",
     "text": [
      "INFO:root:Downloading source...\n",
      "INFO:root:Configured job!\n",
      "INFO:root:Submitting job\n",
      "INFO:root:Submitted job! id: 2020-11-12-02-15-00-cd7c6fc0-8676-497d-b81b-052481bfbc1b\n"
     ]
    }
   ],
   "source": [
    "fo.run_s3_job(bucket='faropt-s3bucketfbfa637e-jauzfgds5cug',key='2020-11-12-01-25-18-8f565343-5960-4406-b453-b8a5213b6436/source.zip')"
   ]
  },
  {
   "cell_type": "code",
   "execution_count": null,
   "metadata": {},
   "outputs": [
    {
     "name": "stdout",
     "output_type": "stream",
     "text": [
      "PROVISIONING\n"
     ]
    }
   ],
   "source": [
    "fo.wait()"
   ]
  },
  {
   "cell_type": "markdown",
   "metadata": {},
   "source": [
    "# Sample Vehicle routing problem run using OR tools"
   ]
  },
  {
   "cell_type": "code",
   "execution_count": null,
   "metadata": {},
   "outputs": [],
   "source": []
  },
  {
   "cell_type": "code",
   "execution_count": null,
   "metadata": {},
   "outputs": [],
   "source": [
    "!pygmentize ../tests/src/main.py"
   ]
  },
  {
   "cell_type": "markdown",
   "metadata": {},
   "source": [
    "### Configure and submit the job"
   ]
  },
  {
   "cell_type": "code",
   "execution_count": null,
   "metadata": {},
   "outputs": [],
   "source": [
    "fo.configure('../tests/srcga/')"
   ]
  },
  {
   "cell_type": "code",
   "execution_count": null,
   "metadata": {},
   "outputs": [],
   "source": [
    "fo.submit()"
   ]
  },
  {
   "cell_type": "markdown",
   "metadata": {},
   "source": [
    "### Wait for job to complete\n",
    "\n",
    "look for INFO:root:JOB COMPLETED!"
   ]
  },
  {
   "cell_type": "code",
   "execution_count": null,
   "metadata": {},
   "outputs": [],
   "source": [
    "fo.wait()"
   ]
  },
  {
   "cell_type": "code",
   "execution_count": null,
   "metadata": {},
   "outputs": [],
   "source": [
    "fo.list_recipes()"
   ]
  },
  {
   "cell_type": "code",
   "execution_count": null,
   "metadata": {},
   "outputs": [],
   "source": [
    "fo.logs()"
   ]
  },
  {
   "cell_type": "markdown",
   "metadata": {},
   "source": [
    "### Optionally Add this problem as a standard recipe"
   ]
  },
  {
   "cell_type": "code",
   "execution_count": null,
   "metadata": {},
   "outputs": [],
   "source": [
    "fo.add_recipe('cvrp_problem')"
   ]
  },
  {
   "cell_type": "markdown",
   "metadata": {},
   "source": [
    "### Rerun this recipe at any time"
   ]
  },
  {
   "cell_type": "code",
   "execution_count": null,
   "metadata": {},
   "outputs": [],
   "source": [
    "fo.run_recipe('cvrp_problem')"
   ]
  },
  {
   "cell_type": "code",
   "execution_count": null,
   "metadata": {},
   "outputs": [],
   "source": []
  },
  {
   "cell_type": "markdown",
   "metadata": {},
   "source": [
    "### List past jobs and recipes"
   ]
  },
  {
   "cell_type": "code",
   "execution_count": null,
   "metadata": {},
   "outputs": [],
   "source": [
    "fo.list_jobs()"
   ]
  },
  {
   "cell_type": "code",
   "execution_count": null,
   "metadata": {},
   "outputs": [],
   "source": [
    "fo.list_recipes()"
   ]
  },
  {
   "cell_type": "code",
   "execution_count": null,
   "metadata": {},
   "outputs": [],
   "source": [
    "fo.configure('../tests/srcga/')"
   ]
  },
  {
   "cell_type": "code",
   "execution_count": null,
   "metadata": {},
   "outputs": [],
   "source": [
    "fo.add_recipe('ga_problem')"
   ]
  },
  {
   "cell_type": "code",
   "execution_count": null,
   "metadata": {},
   "outputs": [],
   "source": [
    "!pygmentize ../tests/srcga/main.py"
   ]
  },
  {
   "cell_type": "code",
   "execution_count": null,
   "metadata": {},
   "outputs": [],
   "source": []
  }
 ],
 "metadata": {
  "kernelspec": {
   "display_name": "conda_python3",
   "language": "python",
   "name": "conda_python3"
  },
  "language_info": {
   "codemirror_mode": {
    "name": "ipython",
    "version": 3
   },
   "file_extension": ".py",
   "mimetype": "text/x-python",
   "name": "python",
   "nbconvert_exporter": "python",
   "pygments_lexer": "ipython3",
   "version": "3.6.10"
  }
 },
 "nbformat": 4,
 "nbformat_minor": 4
}
